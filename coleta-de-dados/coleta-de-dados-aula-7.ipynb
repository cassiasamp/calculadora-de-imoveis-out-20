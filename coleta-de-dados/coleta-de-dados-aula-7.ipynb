{
  "nbformat": 4,
  "nbformat_minor": 0,
  "metadata": {
    "colab": {
      "name": "raspagem_web_aula7.ipynb",
      "provenance": [],
      "collapsed_sections": []
    },
    "kernelspec": {
      "name": "python3",
      "display_name": "Python 3"
    }
  },
  "cells": [
    {
      "cell_type": "markdown",
      "metadata": {
        "id": "nLcrIAc2haMo"
      },
      "source": [
        "## Coleta de dados para a calculadora de imóveis"
      ]
    },
    {
      "cell_type": "code",
      "metadata": {
        "id": "wA0FBOb1g2zH"
      },
      "source": [
        "import requests"
      ],
      "execution_count": 1,
      "outputs": []
    },
    {
      "cell_type": "code",
      "metadata": {
        "id": "k0Amrg6di4HZ"
      },
      "source": [
        "url_ml = 'https://imoveis.mercadolivre.com.br/apartamentos/aluguel/sao-paulo/'"
      ],
      "execution_count": 2,
      "outputs": []
    },
    {
      "cell_type": "code",
      "metadata": {
        "id": "lJ3vHJsijGQ9"
      },
      "source": [
        "resposta = requests.get(url_ml).content"
      ],
      "execution_count": 3,
      "outputs": []
    },
    {
      "cell_type": "code",
      "metadata": {
        "id": "b6VvTuf7jVTs"
      },
      "source": [
        "from bs4 import BeautifulSoup"
      ],
      "execution_count": 4,
      "outputs": []
    },
    {
      "cell_type": "code",
      "metadata": {
        "id": "dJqqWA_rklPl"
      },
      "source": [
        "sopa = BeautifulSoup(resposta)"
      ],
      "execution_count": 5,
      "outputs": []
    },
    {
      "cell_type": "code",
      "metadata": {
        "colab": {
          "base_uri": "https://localhost:8080/",
          "height": 35
        },
        "id": "kZr-oNl4k8OM",
        "outputId": "44f651dc-0891-493a-f733-200d26c7eef6"
      },
      "source": [
        "# buscando apenas 1 elemento na sopa\n",
        "sopa.find('span', {'class':'price-tag-fraction'}).text"
      ],
      "execution_count": 6,
      "outputs": [
        {
          "output_type": "execute_result",
          "data": {
            "application/vnd.google.colaboratory.intrinsic+json": {
              "type": "string"
            },
            "text/plain": [
              "'700'"
            ]
          },
          "metadata": {
            "tags": []
          },
          "execution_count": 6
        }
      ]
    },
    {
      "cell_type": "code",
      "metadata": {
        "id": "4wW9JJlyoyz9"
      },
      "source": [
        "# queremos pegar só o preço de cada elemento do result set que volta da busca da sopa\n",
        "# só que não conseguimos extrair direto do result set, precisamos fazer um loop\n",
        "# sopa.find_all('span', {'class': 'price-tag-fraction'}).text"
      ],
      "execution_count": 7,
      "outputs": []
    },
    {
      "cell_type": "code",
      "metadata": {
        "id": "3mKG_CzPlAUM"
      },
      "source": [
        "result_set_precos = sopa.find_all('span', {'class': 'price-tag-fraction'})\n",
        "lista_precos = []\n",
        "\n",
        "for elemento in result_set_precos:\n",
        "  lista_precos.append(elemento.text)"
      ],
      "execution_count": 8,
      "outputs": []
    },
    {
      "cell_type": "code",
      "metadata": {
        "colab": {
          "base_uri": "https://localhost:8080/"
        },
        "id": "pmfG5HzMm5bu",
        "outputId": "eae04f29-2486-425c-b6bf-33de5bf1e9d2"
      },
      "source": [
        "lista_precos[:5]"
      ],
      "execution_count": 9,
      "outputs": [
        {
          "output_type": "execute_result",
          "data": {
            "text/plain": [
              "['700', '850', '650', '650', '800']"
            ]
          },
          "metadata": {
            "tags": []
          },
          "execution_count": 9
        }
      ]
    },
    {
      "cell_type": "markdown",
      "metadata": {
        "id": "u8pSGpKZpmWG"
      },
      "source": [
        " ## Tarefa:\n",
        " - Fazer o mesmo para áreas e quartos.\n",
        " - Se quiser, também fazer para as zonas e mais de uma página do Mercado Livre - as primeiras 5 ou 6 páginas.\n",
        " - Se quiserem coletar dados de outras cidades, zonas, de casas, fica a critério de vocês."
      ]
    },
    {
      "cell_type": "code",
      "metadata": {
        "id": "5DvHeAHBoOP5"
      },
      "source": [
        "lista_area_quartos = []"
      ],
      "execution_count": 10,
      "outputs": []
    },
    {
      "cell_type": "code",
      "metadata": {
        "id": "TasBve-VwQS4"
      },
      "source": [
        "result_set_area_quartos = sopa.find_all('ul', class_='ui-search-card-attributes ui-search-item__group__element')\n",
        "\n",
        "for elemento in result_set_area_quartos:\n",
        "  lista_area_quartos.append(elemento.text)"
      ],
      "execution_count": 11,
      "outputs": []
    },
    {
      "cell_type": "code",
      "metadata": {
        "id": "qCMD-HgFwwOn",
        "colab": {
          "base_uri": "https://localhost:8080/"
        },
        "outputId": "ff35c49c-6522-4b8a-c731-c6d4d2ead81c"
      },
      "source": [
        "lista_area_quartos[:5]"
      ],
      "execution_count": 12,
      "outputs": [
        {
          "output_type": "execute_result",
          "data": {
            "text/plain": [
              "['58 m² construídos2 quartos',\n",
              " '40 m² construídos2 quartos',\n",
              " '68 m² construídos2 quartos',\n",
              " '30 m² construídos1 quarto',\n",
              " '94 m² construídos2 quartos']"
            ]
          },
          "metadata": {
            "tags": []
          },
          "execution_count": 12
        }
      ]
    },
    {
      "cell_type": "code",
      "metadata": {
        "id": "wt9q6_VRjgpO"
      },
      "source": [
        "result_set_enderecos = sopa.find_all('span', class_='ui-search-item__group__element ui-search-item__location')"
      ],
      "execution_count": 13,
      "outputs": []
    },
    {
      "cell_type": "code",
      "metadata": {
        "colab": {
          "base_uri": "https://localhost:8080/"
        },
        "id": "kAdS1mtDjq3M",
        "outputId": "2d6ad099-977e-40db-a962-fb1c9830e882"
      },
      "source": [
        "result_set_enderecos[:5]"
      ],
      "execution_count": 14,
      "outputs": [
        {
          "output_type": "execute_result",
          "data": {
            "text/plain": [
              "[<span class=\"ui-search-item__group__element ui-search-item__location\">Avenida Paula Ferreira, Vila Pirituba, São Paulo Zona Oeste, São Paulo</span>,\n",
              " <span class=\"ui-search-item__group__element ui-search-item__location\">Rua Jaboticabal, Vila Bertioga, São Paulo Zona Leste, São Paulo</span>,\n",
              " <span class=\"ui-search-item__group__element ui-search-item__location\">Rua João Infante, Nova Petrópolis, São Bernardo Do Campo, São Paulo</span>,\n",
              " <span class=\"ui-search-item__group__element ui-search-item__location\">Praça Marechal Deodoro, Santa Cecília, São Paulo Centro, São Paulo</span>,\n",
              " <span class=\"ui-search-item__group__element ui-search-item__location\">Avenida Marechal Deodoro, Gonzaga, Santos, São Paulo</span>]"
            ]
          },
          "metadata": {
            "tags": []
          },
          "execution_count": 14
        }
      ]
    },
    {
      "cell_type": "code",
      "metadata": {
        "colab": {
          "base_uri": "https://localhost:8080/",
          "height": 35
        },
        "id": "7-EOFi76jh20",
        "outputId": "d06c3ec9-9f12-4aab-cf2b-1b5b5a6fa8c7"
      },
      "source": [
        "result_set_enderecos[0].text"
      ],
      "execution_count": 15,
      "outputs": [
        {
          "output_type": "execute_result",
          "data": {
            "application/vnd.google.colaboratory.intrinsic+json": {
              "type": "string"
            },
            "text/plain": [
              "'Avenida Paula Ferreira, Vila Pirituba, São Paulo Zona Oeste, São Paulo'"
            ]
          },
          "metadata": {
            "tags": []
          },
          "execution_count": 15
        }
      ]
    },
    {
      "cell_type": "markdown",
      "metadata": {
        "id": "zhBb0cxMj6mG"
      },
      "source": [
        "# Coleta de dados de diferentes zonas e páginas"
      ]
    },
    {
      "cell_type": "code",
      "metadata": {
        "id": "PdNq3ma5yWpX"
      },
      "source": [
        "# para cada link fazer o request\n",
        "# para o request pegar a sopa\n",
        "# para a sopa extrair as listas (area_quartos, preco, zona, endereco (opcional))\n",
        "# colocar as listas em um dataFrame (tabelinha)"
      ],
      "execution_count": 16,
      "outputs": []
    },
    {
      "cell_type": "code",
      "metadata": {
        "id": "5qL9EBETqCBL"
      },
      "source": [
        "import pandas as pd\n",
        "import requests\n",
        "import numpy as np\n",
        "from bs4 import BeautifulSoup\n",
        "from time import sleep"
      ],
      "execution_count": 17,
      "outputs": []
    },
    {
      "cell_type": "code",
      "metadata": {
        "id": "17S5C69vyJHK"
      },
      "source": [
        "zonas = ['sul', 'oeste']#, 'leste', 'norte']"
      ],
      "execution_count": 18,
      "outputs": []
    },
    {
      "cell_type": "code",
      "metadata": {
        "id": "mltYl7Dny8T-"
      },
      "source": [
        "paginas = ['', '_Desde_49']#, '_Desde_97', '_Desde_145', '_Desde_193']"
      ],
      "execution_count": 19,
      "outputs": []
    },
    {
      "cell_type": "code",
      "metadata": {
        "id": "K8MKlRK0sutM"
      },
      "source": [
        "def coletando_dados(url, zona):\n",
        "\n",
        "  resposta = requests.get(url).content\n",
        "  sopa = BeautifulSoup(resposta)\n",
        "\n",
        "  result_set_precos = sopa.find_all('span', {'class': 'price-tag-fraction'})\n",
        "  result_set_area_quartos = sopa.find_all('ul', class_='ui-search-card-attributes ui-search-item__group__element')\n",
        "  result_set_enderecos = sopa.find_all('span', class_='ui-search-item__group__element ui-search-item__location')\n",
        "\n",
        "  lista_precos = []\n",
        "  lista_area_quartos = []\n",
        "  lista_enderecos = []\n",
        "  lista_zonas = []\n",
        "\n",
        "  for preco, area_quarto, endereco in zip(result_set_precos, result_set_area_quartos, result_set_enderecos):\n",
        "    lista_precos.append(preco.text)\n",
        "    lista_area_quartos.append(area_quarto.text)\n",
        "    lista_enderecos.append(endereco.text)\n",
        "    lista_zonas.append(zona)\n",
        "    \n",
        "  dados = {'zonas': lista_zonas,\n",
        "           'areas_quartos': lista_area_quartos,\n",
        "           'enderecos': lista_enderecos,\n",
        "           'precos': lista_precos}\n",
        "\n",
        "  df = pd.DataFrame(dados)\n",
        "  return df"
      ],
      "execution_count": 20,
      "outputs": []
    },
    {
      "cell_type": "code",
      "metadata": {
        "id": "T8PAdLdbhZcR"
      },
      "source": [
        "# # exemplo de try except\n",
        "# try:\n",
        "#   for elemento ...\n",
        "# except:\n",
        "#   print('deu ruim')"
      ],
      "execution_count": 21,
      "outputs": []
    },
    {
      "cell_type": "code",
      "metadata": {
        "colab": {
          "base_uri": "https://localhost:8080/"
        },
        "id": "8FHLB4IaxRDl",
        "outputId": "68ed674b-7fca-41eb-953a-37ad875115aa"
      },
      "source": [
        "lista_dados = []\n",
        "\n",
        "for zona in zonas:\n",
        "  for pagina in paginas:\n",
        "    url = f'https://imoveis.mercadolivre.com.br/apartamentos/aluguel/sao-paulo/sao-paulo-zona-{zona}/{pagina}'\n",
        "    print('Coletando dados de', url)\n",
        "    df = coletando_dados(url, zona)\n",
        "    lista_dados.append(df)\n",
        "    sleep(2) # lembrar de usar sleep para não sobrecarregar o site de acessos\n",
        "print('Dados coletados!')"
      ],
      "execution_count": 22,
      "outputs": [
        {
          "output_type": "stream",
          "text": [
            "Coletando dados de https://imoveis.mercadolivre.com.br/apartamentos/aluguel/sao-paulo/sao-paulo-zona-sul/\n",
            "Coletando dados de https://imoveis.mercadolivre.com.br/apartamentos/aluguel/sao-paulo/sao-paulo-zona-sul/_Desde_49\n",
            "Coletando dados de https://imoveis.mercadolivre.com.br/apartamentos/aluguel/sao-paulo/sao-paulo-zona-oeste/\n",
            "Coletando dados de https://imoveis.mercadolivre.com.br/apartamentos/aluguel/sao-paulo/sao-paulo-zona-oeste/_Desde_49\n",
            "Dados coletados!\n"
          ],
          "name": "stdout"
        }
      ]
    },
    {
      "cell_type": "code",
      "metadata": {
        "colab": {
          "base_uri": "https://localhost:8080/",
          "height": 415
        },
        "id": "3Thf62vZrHJu",
        "outputId": "069f552c-d43e-4017-9660-ee346e255f6f"
      },
      "source": [
        "df_dados = pd.concat(lista_dados)\n",
        "df_dados"
      ],
      "execution_count": 23,
      "outputs": [
        {
          "output_type": "execute_result",
          "data": {
            "text/html": [
              "<div>\n",
              "<style scoped>\n",
              "    .dataframe tbody tr th:only-of-type {\n",
              "        vertical-align: middle;\n",
              "    }\n",
              "\n",
              "    .dataframe tbody tr th {\n",
              "        vertical-align: top;\n",
              "    }\n",
              "\n",
              "    .dataframe thead th {\n",
              "        text-align: right;\n",
              "    }\n",
              "</style>\n",
              "<table border=\"1\" class=\"dataframe\">\n",
              "  <thead>\n",
              "    <tr style=\"text-align: right;\">\n",
              "      <th></th>\n",
              "      <th>zonas</th>\n",
              "      <th>areas_quartos</th>\n",
              "      <th>enderecos</th>\n",
              "      <th>precos</th>\n",
              "    </tr>\n",
              "  </thead>\n",
              "  <tbody>\n",
              "    <tr>\n",
              "      <th>0</th>\n",
              "      <td>sul</td>\n",
              "      <td>60 m² construídos2 quartos</td>\n",
              "      <td>Avenida Cupecê, Jardim Prudência, São Paulo Zo...</td>\n",
              "      <td>820</td>\n",
              "    </tr>\n",
              "    <tr>\n",
              "      <th>1</th>\n",
              "      <td>sul</td>\n",
              "      <td>35 m² construídos1 quarto</td>\n",
              "      <td>Rua Moinho Velho, Moinho Velho, São Paulo Zona...</td>\n",
              "      <td>600</td>\n",
              "    </tr>\n",
              "    <tr>\n",
              "      <th>2</th>\n",
              "      <td>sul</td>\n",
              "      <td>65 m² construídos3 quartos</td>\n",
              "      <td>Rua Grumixamas, Vila Parque Jabaquara, São Pau...</td>\n",
              "      <td>1.492</td>\n",
              "    </tr>\n",
              "    <tr>\n",
              "      <th>3</th>\n",
              "      <td>sul</td>\n",
              "      <td>40 m² construídos1 quarto</td>\n",
              "      <td>Rua Dos Patriotas, Ipiranga, São Paulo Zona Su...</td>\n",
              "      <td>1.200</td>\n",
              "    </tr>\n",
              "    <tr>\n",
              "      <th>4</th>\n",
              "      <td>sul</td>\n",
              "      <td>40 m² construídos1 quarto</td>\n",
              "      <td>Rua Inglês De Sousa, Jardim Da Glória, São Pau...</td>\n",
              "      <td>1.300</td>\n",
              "    </tr>\n",
              "    <tr>\n",
              "      <th>...</th>\n",
              "      <td>...</td>\n",
              "      <td>...</td>\n",
              "      <td>...</td>\n",
              "      <td>...</td>\n",
              "    </tr>\n",
              "    <tr>\n",
              "      <th>43</th>\n",
              "      <td>oeste</td>\n",
              "      <td>48 m² construídos1 quarto</td>\n",
              "      <td>Rua Nazira Carone - Jardim Ampliacao, São Paul...</td>\n",
              "      <td>2.000</td>\n",
              "    </tr>\n",
              "    <tr>\n",
              "      <th>44</th>\n",
              "      <td>oeste</td>\n",
              "      <td>93 m² construídos2 quartos</td>\n",
              "      <td>Rua Doutor Luiz Migliano, Jardim Caboré, São P...</td>\n",
              "      <td>3.300</td>\n",
              "    </tr>\n",
              "    <tr>\n",
              "      <th>45</th>\n",
              "      <td>oeste</td>\n",
              "      <td>42 m² construídos1 quarto</td>\n",
              "      <td>Rua Arizona, Cidade Moncoes, São Paulo Zona Oe...</td>\n",
              "      <td>4.000</td>\n",
              "    </tr>\n",
              "    <tr>\n",
              "      <th>46</th>\n",
              "      <td>oeste</td>\n",
              "      <td>110 m² construídos3 quartos</td>\n",
              "      <td>Rua Scipião, Vila Romana, São Paulo Zona Oeste...</td>\n",
              "      <td>5.100</td>\n",
              "    </tr>\n",
              "    <tr>\n",
              "      <th>47</th>\n",
              "      <td>oeste</td>\n",
              "      <td>75 m² construídos2 quartos</td>\n",
              "      <td>Rua Sansão Alves Dos Santos, Cidade Moncoes, S...</td>\n",
              "      <td>6.000</td>\n",
              "    </tr>\n",
              "  </tbody>\n",
              "</table>\n",
              "<p>192 rows × 4 columns</p>\n",
              "</div>"
            ],
            "text/plain": [
              "    zonas  ... precos\n",
              "0     sul  ...    820\n",
              "1     sul  ...    600\n",
              "2     sul  ...  1.492\n",
              "3     sul  ...  1.200\n",
              "4     sul  ...  1.300\n",
              "..    ...  ...    ...\n",
              "43  oeste  ...  2.000\n",
              "44  oeste  ...  3.300\n",
              "45  oeste  ...  4.000\n",
              "46  oeste  ...  5.100\n",
              "47  oeste  ...  6.000\n",
              "\n",
              "[192 rows x 4 columns]"
            ]
          },
          "metadata": {
            "tags": []
          },
          "execution_count": 23
        }
      ]
    },
    {
      "cell_type": "code",
      "metadata": {
        "id": "9gYYw39avUBU"
      },
      "source": [
        "df_dados.to_csv('dados_mercado_livre.csv', index=False) # index=False para tirar o unnamed - coluna adicional de indices"
      ],
      "execution_count": 24,
      "outputs": []
    },
    {
      "cell_type": "markdown",
      "metadata": {
        "id": "vcwbigog6gEu"
      },
      "source": [
        "# Manipulando o dataframe"
      ]
    },
    {
      "cell_type": "code",
      "metadata": {
        "id": "5O0m8U5I6m7Q"
      },
      "source": [
        "import re"
      ],
      "execution_count": 25,
      "outputs": []
    },
    {
      "cell_type": "code",
      "metadata": {
        "id": "RqNgC6lxvmD1"
      },
      "source": [
        "df_ml = pd.read_csv('dados_mercado_livre.csv', thousands='.')"
      ],
      "execution_count": 26,
      "outputs": []
    },
    {
      "cell_type": "code",
      "metadata": {
        "colab": {
          "base_uri": "https://localhost:8080/",
          "height": 202
        },
        "id": "JbhxyA2DkvwQ",
        "outputId": "bd071898-6656-417e-f82d-f7465522b7c2"
      },
      "source": [
        "df_ml.head()"
      ],
      "execution_count": 27,
      "outputs": [
        {
          "output_type": "execute_result",
          "data": {
            "text/html": [
              "<div>\n",
              "<style scoped>\n",
              "    .dataframe tbody tr th:only-of-type {\n",
              "        vertical-align: middle;\n",
              "    }\n",
              "\n",
              "    .dataframe tbody tr th {\n",
              "        vertical-align: top;\n",
              "    }\n",
              "\n",
              "    .dataframe thead th {\n",
              "        text-align: right;\n",
              "    }\n",
              "</style>\n",
              "<table border=\"1\" class=\"dataframe\">\n",
              "  <thead>\n",
              "    <tr style=\"text-align: right;\">\n",
              "      <th></th>\n",
              "      <th>zonas</th>\n",
              "      <th>areas_quartos</th>\n",
              "      <th>enderecos</th>\n",
              "      <th>precos</th>\n",
              "    </tr>\n",
              "  </thead>\n",
              "  <tbody>\n",
              "    <tr>\n",
              "      <th>0</th>\n",
              "      <td>sul</td>\n",
              "      <td>60 m² construídos2 quartos</td>\n",
              "      <td>Avenida Cupecê, Jardim Prudência, São Paulo Zo...</td>\n",
              "      <td>820</td>\n",
              "    </tr>\n",
              "    <tr>\n",
              "      <th>1</th>\n",
              "      <td>sul</td>\n",
              "      <td>35 m² construídos1 quarto</td>\n",
              "      <td>Rua Moinho Velho, Moinho Velho, São Paulo Zona...</td>\n",
              "      <td>600</td>\n",
              "    </tr>\n",
              "    <tr>\n",
              "      <th>2</th>\n",
              "      <td>sul</td>\n",
              "      <td>65 m² construídos3 quartos</td>\n",
              "      <td>Rua Grumixamas, Vila Parque Jabaquara, São Pau...</td>\n",
              "      <td>1492</td>\n",
              "    </tr>\n",
              "    <tr>\n",
              "      <th>3</th>\n",
              "      <td>sul</td>\n",
              "      <td>40 m² construídos1 quarto</td>\n",
              "      <td>Rua Dos Patriotas, Ipiranga, São Paulo Zona Su...</td>\n",
              "      <td>1200</td>\n",
              "    </tr>\n",
              "    <tr>\n",
              "      <th>4</th>\n",
              "      <td>sul</td>\n",
              "      <td>40 m² construídos1 quarto</td>\n",
              "      <td>Rua Inglês De Sousa, Jardim Da Glória, São Pau...</td>\n",
              "      <td>1300</td>\n",
              "    </tr>\n",
              "  </tbody>\n",
              "</table>\n",
              "</div>"
            ],
            "text/plain": [
              "  zonas  ... precos\n",
              "0   sul  ...    820\n",
              "1   sul  ...    600\n",
              "2   sul  ...   1492\n",
              "3   sul  ...   1200\n",
              "4   sul  ...   1300\n",
              "\n",
              "[5 rows x 4 columns]"
            ]
          },
          "metadata": {
            "tags": []
          },
          "execution_count": 27
        }
      ]
    },
    {
      "cell_type": "code",
      "metadata": {
        "colab": {
          "base_uri": "https://localhost:8080/"
        },
        "id": "nYIKoTbMxxVX",
        "outputId": "cd7676b7-b9a9-4ef4-d404-a77485bc0ba9"
      },
      "source": [
        "df_ml.info()"
      ],
      "execution_count": 28,
      "outputs": [
        {
          "output_type": "stream",
          "text": [
            "<class 'pandas.core.frame.DataFrame'>\n",
            "RangeIndex: 192 entries, 0 to 191\n",
            "Data columns (total 4 columns):\n",
            " #   Column         Non-Null Count  Dtype \n",
            "---  ------         --------------  ----- \n",
            " 0   zonas          192 non-null    object\n",
            " 1   areas_quartos  192 non-null    object\n",
            " 2   enderecos      192 non-null    object\n",
            " 3   precos         192 non-null    int64 \n",
            "dtypes: int64(1), object(3)\n",
            "memory usage: 6.1+ KB\n"
          ],
          "name": "stdout"
        }
      ]
    },
    {
      "cell_type": "code",
      "metadata": {
        "colab": {
          "base_uri": "https://localhost:8080/",
          "height": 35
        },
        "id": "Whh55JZ1zNNi",
        "outputId": "5325ef74-8080-4034-892c-e437ce0db72e"
      },
      "source": [
        "linha_0 = df_ml['areas_quartos'][0]\n",
        "linha_0"
      ],
      "execution_count": 29,
      "outputs": [
        {
          "output_type": "execute_result",
          "data": {
            "application/vnd.google.colaboratory.intrinsic+json": {
              "type": "string"
            },
            "text/plain": [
              "'60 m² construídos2 quartos'"
            ]
          },
          "metadata": {
            "tags": []
          },
          "execution_count": 29
        }
      ]
    },
    {
      "cell_type": "code",
      "metadata": {
        "id": "qg7aWCAV0VUh"
      },
      "source": [
        "# quando não temos a área\n",
        "linha_0_va = '2 quartos'"
      ],
      "execution_count": 30,
      "outputs": []
    },
    {
      "cell_type": "code",
      "metadata": {
        "id": "z_J3zWOwx-1J"
      },
      "source": [
        "def extrair_area(entrada):\n",
        "  if 'm²' in entrada:\n",
        "    # uma solução é com o find que devolve o indíce e aí seleciona um pedaço\n",
        "    # outra solução é dividir o texto onde tem m²\n",
        "    area = entrada.split(' m²')[0]\n",
        "  else:\n",
        "    area = np.nan\n",
        "  return area"
      ],
      "execution_count": 31,
      "outputs": []
    },
    {
      "cell_type": "code",
      "metadata": {
        "colab": {
          "base_uri": "https://localhost:8080/"
        },
        "id": "e2m4q3dF0-_v",
        "outputId": "41ed6de0-9ac7-47ed-d043-cfeaeedcbfd7"
      },
      "source": [
        "extrair_area(linha_0_va)"
      ],
      "execution_count": 32,
      "outputs": [
        {
          "output_type": "execute_result",
          "data": {
            "text/plain": [
              "nan"
            ]
          },
          "metadata": {
            "tags": []
          },
          "execution_count": 32
        }
      ]
    },
    {
      "cell_type": "code",
      "metadata": {
        "colab": {
          "base_uri": "https://localhost:8080/",
          "height": 35
        },
        "id": "QGvNncOU0mJc",
        "outputId": "58c172b4-777a-4157-e986-a775919272f3"
      },
      "source": [
        "extrair_area(linha_0)"
      ],
      "execution_count": 33,
      "outputs": [
        {
          "output_type": "execute_result",
          "data": {
            "application/vnd.google.colaboratory.intrinsic+json": {
              "type": "string"
            },
            "text/plain": [
              "'60'"
            ]
          },
          "metadata": {
            "tags": []
          },
          "execution_count": 33
        }
      ]
    },
    {
      "cell_type": "code",
      "metadata": {
        "colab": {
          "base_uri": "https://localhost:8080/"
        },
        "id": "wMDTmkMK1pAd",
        "outputId": "93739995-46a4-4341-d669-13e08feb3a90"
      },
      "source": [
        "type(np.nan) # 'curiosamente' o nan é um float"
      ],
      "execution_count": 34,
      "outputs": [
        {
          "output_type": "execute_result",
          "data": {
            "text/plain": [
              "float"
            ]
          },
          "metadata": {
            "tags": []
          },
          "execution_count": 34
        }
      ]
    },
    {
      "cell_type": "code",
      "metadata": {
        "id": "_HDGNefQ14Sf"
      },
      "source": [
        "df_ml['areas'] =  df_ml['areas_quartos'].apply(extrair_area).astype(float) # to_numeric"
      ],
      "execution_count": 35,
      "outputs": []
    },
    {
      "cell_type": "code",
      "metadata": {
        "colab": {
          "base_uri": "https://localhost:8080/",
          "height": 202
        },
        "id": "_YB2sj223RDU",
        "outputId": "8228f4de-fe2b-42c2-eb7b-d03a7907759e"
      },
      "source": [
        "df_ml.head()"
      ],
      "execution_count": 36,
      "outputs": [
        {
          "output_type": "execute_result",
          "data": {
            "text/html": [
              "<div>\n",
              "<style scoped>\n",
              "    .dataframe tbody tr th:only-of-type {\n",
              "        vertical-align: middle;\n",
              "    }\n",
              "\n",
              "    .dataframe tbody tr th {\n",
              "        vertical-align: top;\n",
              "    }\n",
              "\n",
              "    .dataframe thead th {\n",
              "        text-align: right;\n",
              "    }\n",
              "</style>\n",
              "<table border=\"1\" class=\"dataframe\">\n",
              "  <thead>\n",
              "    <tr style=\"text-align: right;\">\n",
              "      <th></th>\n",
              "      <th>zonas</th>\n",
              "      <th>areas_quartos</th>\n",
              "      <th>enderecos</th>\n",
              "      <th>precos</th>\n",
              "      <th>areas</th>\n",
              "    </tr>\n",
              "  </thead>\n",
              "  <tbody>\n",
              "    <tr>\n",
              "      <th>0</th>\n",
              "      <td>sul</td>\n",
              "      <td>60 m² construídos2 quartos</td>\n",
              "      <td>Avenida Cupecê, Jardim Prudência, São Paulo Zo...</td>\n",
              "      <td>820</td>\n",
              "      <td>60.0</td>\n",
              "    </tr>\n",
              "    <tr>\n",
              "      <th>1</th>\n",
              "      <td>sul</td>\n",
              "      <td>35 m² construídos1 quarto</td>\n",
              "      <td>Rua Moinho Velho, Moinho Velho, São Paulo Zona...</td>\n",
              "      <td>600</td>\n",
              "      <td>35.0</td>\n",
              "    </tr>\n",
              "    <tr>\n",
              "      <th>2</th>\n",
              "      <td>sul</td>\n",
              "      <td>65 m² construídos3 quartos</td>\n",
              "      <td>Rua Grumixamas, Vila Parque Jabaquara, São Pau...</td>\n",
              "      <td>1492</td>\n",
              "      <td>65.0</td>\n",
              "    </tr>\n",
              "    <tr>\n",
              "      <th>3</th>\n",
              "      <td>sul</td>\n",
              "      <td>40 m² construídos1 quarto</td>\n",
              "      <td>Rua Dos Patriotas, Ipiranga, São Paulo Zona Su...</td>\n",
              "      <td>1200</td>\n",
              "      <td>40.0</td>\n",
              "    </tr>\n",
              "    <tr>\n",
              "      <th>4</th>\n",
              "      <td>sul</td>\n",
              "      <td>40 m² construídos1 quarto</td>\n",
              "      <td>Rua Inglês De Sousa, Jardim Da Glória, São Pau...</td>\n",
              "      <td>1300</td>\n",
              "      <td>40.0</td>\n",
              "    </tr>\n",
              "  </tbody>\n",
              "</table>\n",
              "</div>"
            ],
            "text/plain": [
              "  zonas               areas_quartos  ... precos  areas\n",
              "0   sul  60 m² construídos2 quartos  ...    820   60.0\n",
              "1   sul   35 m² construídos1 quarto  ...    600   35.0\n",
              "2   sul  65 m² construídos3 quartos  ...   1492   65.0\n",
              "3   sul   40 m² construídos1 quarto  ...   1200   40.0\n",
              "4   sul   40 m² construídos1 quarto  ...   1300   40.0\n",
              "\n",
              "[5 rows x 5 columns]"
            ]
          },
          "metadata": {
            "tags": []
          },
          "execution_count": 36
        }
      ]
    },
    {
      "cell_type": "code",
      "metadata": {
        "colab": {
          "base_uri": "https://localhost:8080/"
        },
        "id": "MjSSlfk74GYG",
        "outputId": "b1824317-c2cc-4801-dd0b-dd45dd3d1736"
      },
      "source": [
        "df_ml.info()"
      ],
      "execution_count": 37,
      "outputs": [
        {
          "output_type": "stream",
          "text": [
            "<class 'pandas.core.frame.DataFrame'>\n",
            "RangeIndex: 192 entries, 0 to 191\n",
            "Data columns (total 5 columns):\n",
            " #   Column         Non-Null Count  Dtype  \n",
            "---  ------         --------------  -----  \n",
            " 0   zonas          192 non-null    object \n",
            " 1   areas_quartos  192 non-null    object \n",
            " 2   enderecos      192 non-null    object \n",
            " 3   precos         192 non-null    int64  \n",
            " 4   areas          192 non-null    float64\n",
            "dtypes: float64(1), int64(1), object(3)\n",
            "memory usage: 7.6+ KB\n"
          ],
          "name": "stdout"
        }
      ]
    },
    {
      "cell_type": "code",
      "metadata": {
        "id": "9EjJEjwC4Nm1"
      },
      "source": [
        "df_ml['precos'] = df_ml['precos'].astype(float)"
      ],
      "execution_count": 38,
      "outputs": []
    },
    {
      "cell_type": "code",
      "metadata": {
        "colab": {
          "base_uri": "https://localhost:8080/",
          "height": 202
        },
        "id": "SFliwQsg4VUE",
        "outputId": "1b5af861-0bd9-4dc3-fc10-e358a1536137"
      },
      "source": [
        "df_ml.head()"
      ],
      "execution_count": 39,
      "outputs": [
        {
          "output_type": "execute_result",
          "data": {
            "text/html": [
              "<div>\n",
              "<style scoped>\n",
              "    .dataframe tbody tr th:only-of-type {\n",
              "        vertical-align: middle;\n",
              "    }\n",
              "\n",
              "    .dataframe tbody tr th {\n",
              "        vertical-align: top;\n",
              "    }\n",
              "\n",
              "    .dataframe thead th {\n",
              "        text-align: right;\n",
              "    }\n",
              "</style>\n",
              "<table border=\"1\" class=\"dataframe\">\n",
              "  <thead>\n",
              "    <tr style=\"text-align: right;\">\n",
              "      <th></th>\n",
              "      <th>zonas</th>\n",
              "      <th>areas_quartos</th>\n",
              "      <th>enderecos</th>\n",
              "      <th>precos</th>\n",
              "      <th>areas</th>\n",
              "    </tr>\n",
              "  </thead>\n",
              "  <tbody>\n",
              "    <tr>\n",
              "      <th>0</th>\n",
              "      <td>sul</td>\n",
              "      <td>60 m² construídos2 quartos</td>\n",
              "      <td>Avenida Cupecê, Jardim Prudência, São Paulo Zo...</td>\n",
              "      <td>820.0</td>\n",
              "      <td>60.0</td>\n",
              "    </tr>\n",
              "    <tr>\n",
              "      <th>1</th>\n",
              "      <td>sul</td>\n",
              "      <td>35 m² construídos1 quarto</td>\n",
              "      <td>Rua Moinho Velho, Moinho Velho, São Paulo Zona...</td>\n",
              "      <td>600.0</td>\n",
              "      <td>35.0</td>\n",
              "    </tr>\n",
              "    <tr>\n",
              "      <th>2</th>\n",
              "      <td>sul</td>\n",
              "      <td>65 m² construídos3 quartos</td>\n",
              "      <td>Rua Grumixamas, Vila Parque Jabaquara, São Pau...</td>\n",
              "      <td>1492.0</td>\n",
              "      <td>65.0</td>\n",
              "    </tr>\n",
              "    <tr>\n",
              "      <th>3</th>\n",
              "      <td>sul</td>\n",
              "      <td>40 m² construídos1 quarto</td>\n",
              "      <td>Rua Dos Patriotas, Ipiranga, São Paulo Zona Su...</td>\n",
              "      <td>1200.0</td>\n",
              "      <td>40.0</td>\n",
              "    </tr>\n",
              "    <tr>\n",
              "      <th>4</th>\n",
              "      <td>sul</td>\n",
              "      <td>40 m² construídos1 quarto</td>\n",
              "      <td>Rua Inglês De Sousa, Jardim Da Glória, São Pau...</td>\n",
              "      <td>1300.0</td>\n",
              "      <td>40.0</td>\n",
              "    </tr>\n",
              "  </tbody>\n",
              "</table>\n",
              "</div>"
            ],
            "text/plain": [
              "  zonas               areas_quartos  ...  precos  areas\n",
              "0   sul  60 m² construídos2 quartos  ...   820.0   60.0\n",
              "1   sul   35 m² construídos1 quarto  ...   600.0   35.0\n",
              "2   sul  65 m² construídos3 quartos  ...  1492.0   65.0\n",
              "3   sul   40 m² construídos1 quarto  ...  1200.0   40.0\n",
              "4   sul   40 m² construídos1 quarto  ...  1300.0   40.0\n",
              "\n",
              "[5 rows x 5 columns]"
            ]
          },
          "metadata": {
            "tags": []
          },
          "execution_count": 39
        }
      ]
    },
    {
      "cell_type": "code",
      "metadata": {
        "colab": {
          "base_uri": "https://localhost:8080/"
        },
        "id": "IAGww1c24aZK",
        "outputId": "afaa5a7f-c46f-475f-94d1-1d5e4307796b"
      },
      "source": [
        "df_ml.info()"
      ],
      "execution_count": 40,
      "outputs": [
        {
          "output_type": "stream",
          "text": [
            "<class 'pandas.core.frame.DataFrame'>\n",
            "RangeIndex: 192 entries, 0 to 191\n",
            "Data columns (total 5 columns):\n",
            " #   Column         Non-Null Count  Dtype  \n",
            "---  ------         --------------  -----  \n",
            " 0   zonas          192 non-null    object \n",
            " 1   areas_quartos  192 non-null    object \n",
            " 2   enderecos      192 non-null    object \n",
            " 3   precos         192 non-null    float64\n",
            " 4   areas          192 non-null    float64\n",
            "dtypes: float64(2), object(3)\n",
            "memory usage: 7.6+ KB\n"
          ],
          "name": "stdout"
        }
      ]
    },
    {
      "cell_type": "code",
      "metadata": {
        "colab": {
          "base_uri": "https://localhost:8080/",
          "height": 35
        },
        "id": "SxnE0NGQ4czB",
        "outputId": "9d0a4a59-13ba-4405-aa82-2631f3e1b26f"
      },
      "source": [
        "linha_0"
      ],
      "execution_count": 41,
      "outputs": [
        {
          "output_type": "execute_result",
          "data": {
            "application/vnd.google.colaboratory.intrinsic+json": {
              "type": "string"
            },
            "text/plain": [
              "'60 m² construídos2 quartos'"
            ]
          },
          "metadata": {
            "tags": []
          },
          "execution_count": 41
        }
      ]
    },
    {
      "cell_type": "code",
      "metadata": {
        "id": "6uA3b08d4jzI"
      },
      "source": [
        "linha_0_vaq = '60 m² construídos'"
      ],
      "execution_count": 42,
      "outputs": []
    },
    {
      "cell_type": "code",
      "metadata": {
        "colab": {
          "base_uri": "https://localhost:8080/",
          "height": 35
        },
        "id": "rN-JGAFl4mSN",
        "outputId": "9430b641-a032-4025-9aba-8a0f018d0478"
      },
      "source": [
        "linha_0_vaq"
      ],
      "execution_count": 43,
      "outputs": [
        {
          "output_type": "execute_result",
          "data": {
            "application/vnd.google.colaboratory.intrinsic+json": {
              "type": "string"
            },
            "text/plain": [
              "'60 m² construídos'"
            ]
          },
          "metadata": {
            "tags": []
          },
          "execution_count": 43
        }
      ]
    },
    {
      "cell_type": "code",
      "metadata": {
        "id": "SOazleeJ61Xl"
      },
      "source": [
        "texto = linha_0\n",
        "padrao = '(\\d+) quarto' # regex que significa um grupo de um ou mais dígitos\n",
        "padrao1 = '(\\d+)'"
      ],
      "execution_count": 44,
      "outputs": []
    },
    {
      "cell_type": "code",
      "metadata": {
        "colab": {
          "base_uri": "https://localhost:8080/"
        },
        "id": "wsVKU3Ly8lbu",
        "outputId": "6ec8c784-36df-498e-89ed-4cfa27fe9889"
      },
      "source": [
        "re.findall(padrao1, texto) # exemplo - aqui já podemos checar e dividir direto em areas e quartos"
      ],
      "execution_count": 45,
      "outputs": [
        {
          "output_type": "execute_result",
          "data": {
            "text/plain": [
              "['60', '2']"
            ]
          },
          "metadata": {
            "tags": []
          },
          "execution_count": 45
        }
      ]
    },
    {
      "cell_type": "code",
      "metadata": {
        "colab": {
          "base_uri": "https://localhost:8080/",
          "height": 35
        },
        "id": "oUaTA05F6sEo",
        "outputId": "116c880a-3ab0-4ade-9465-0a557c77a14a"
      },
      "source": [
        "re.findall(padrao, texto)[0]"
      ],
      "execution_count": 46,
      "outputs": [
        {
          "output_type": "execute_result",
          "data": {
            "application/vnd.google.colaboratory.intrinsic+json": {
              "type": "string"
            },
            "text/plain": [
              "'2'"
            ]
          },
          "metadata": {
            "tags": []
          },
          "execution_count": 46
        }
      ]
    },
    {
      "cell_type": "code",
      "metadata": {
        "colab": {
          "base_uri": "https://localhost:8080/",
          "height": 35
        },
        "id": "k8nfLfuC7xDT",
        "outputId": "8a5a7b53-2a93-4181-ade6-d43a70a14e4f"
      },
      "source": [
        "linha_0"
      ],
      "execution_count": 47,
      "outputs": [
        {
          "output_type": "execute_result",
          "data": {
            "application/vnd.google.colaboratory.intrinsic+json": {
              "type": "string"
            },
            "text/plain": [
              "'60 m² construídos2 quartos'"
            ]
          },
          "metadata": {
            "tags": []
          },
          "execution_count": 47
        }
      ]
    },
    {
      "cell_type": "code",
      "metadata": {
        "colab": {
          "base_uri": "https://localhost:8080/",
          "height": 35
        },
        "id": "7uNZOi8f9Pfv",
        "outputId": "aa7c8b79-d685-4ef0-b467-469b5321d1ad"
      },
      "source": [
        "linha_0_vaq"
      ],
      "execution_count": 48,
      "outputs": [
        {
          "output_type": "execute_result",
          "data": {
            "application/vnd.google.colaboratory.intrinsic+json": {
              "type": "string"
            },
            "text/plain": [
              "'60 m² construídos'"
            ]
          },
          "metadata": {
            "tags": []
          },
          "execution_count": 48
        }
      ]
    },
    {
      "cell_type": "code",
      "metadata": {
        "colab": {
          "base_uri": "https://localhost:8080/"
        },
        "id": "-IxF1WqB45u-",
        "outputId": "de554a45-5916-49ff-d42e-8397e1fe4889"
      },
      "source": [
        "if 'quarto' in linha_0_vaq:\n",
        "  n_quartos = re.findall(padrao, linha_0_vaq)[0]\n",
        "  print(n_quartos)\n",
        "else:\n",
        "  print('não temos quartos')"
      ],
      "execution_count": 49,
      "outputs": [
        {
          "output_type": "stream",
          "text": [
            "não temos quartos\n"
          ],
          "name": "stdout"
        }
      ]
    },
    {
      "cell_type": "code",
      "metadata": {
        "id": "RESMEZiC4xjB"
      },
      "source": [
        "def extrair_quarto(entrada):\n",
        "\n",
        "  padrao = '(\\d+) quarto'\n",
        "  \n",
        "  if 'quarto' in entrada:\n",
        "    n_quartos = re.findall(padrao, entrada)[0]\n",
        "  else:\n",
        "    n_quartos = np.nan\n",
        "  \n",
        "  return n_quartos"
      ],
      "execution_count": 50,
      "outputs": []
    },
    {
      "cell_type": "code",
      "metadata": {
        "id": "iwp7q0KC9wiS"
      },
      "source": [
        "df_ml['quartos'] = df_ml['areas_quartos'].apply(extrair_quarto).astype(int)"
      ],
      "execution_count": 51,
      "outputs": []
    },
    {
      "cell_type": "code",
      "metadata": {
        "colab": {
          "base_uri": "https://localhost:8080/"
        },
        "id": "ZRR5F7_b96Mq",
        "outputId": "04e968d2-1f06-49ce-fbbf-2236d043f195"
      },
      "source": [
        "df_ml['quartos']"
      ],
      "execution_count": 52,
      "outputs": [
        {
          "output_type": "execute_result",
          "data": {
            "text/plain": [
              "0      2\n",
              "1      1\n",
              "2      3\n",
              "3      1\n",
              "4      1\n",
              "      ..\n",
              "187    1\n",
              "188    2\n",
              "189    1\n",
              "190    3\n",
              "191    2\n",
              "Name: quartos, Length: 192, dtype: int64"
            ]
          },
          "metadata": {
            "tags": []
          },
          "execution_count": 52
        }
      ]
    },
    {
      "cell_type": "code",
      "metadata": {
        "colab": {
          "base_uri": "https://localhost:8080/",
          "height": 202
        },
        "id": "iC3XByT898r0",
        "outputId": "2e8848b5-6c1c-4618-b444-31ae1ab5604b"
      },
      "source": [
        "df_ml.head()"
      ],
      "execution_count": 53,
      "outputs": [
        {
          "output_type": "execute_result",
          "data": {
            "text/html": [
              "<div>\n",
              "<style scoped>\n",
              "    .dataframe tbody tr th:only-of-type {\n",
              "        vertical-align: middle;\n",
              "    }\n",
              "\n",
              "    .dataframe tbody tr th {\n",
              "        vertical-align: top;\n",
              "    }\n",
              "\n",
              "    .dataframe thead th {\n",
              "        text-align: right;\n",
              "    }\n",
              "</style>\n",
              "<table border=\"1\" class=\"dataframe\">\n",
              "  <thead>\n",
              "    <tr style=\"text-align: right;\">\n",
              "      <th></th>\n",
              "      <th>zonas</th>\n",
              "      <th>areas_quartos</th>\n",
              "      <th>enderecos</th>\n",
              "      <th>precos</th>\n",
              "      <th>areas</th>\n",
              "      <th>quartos</th>\n",
              "    </tr>\n",
              "  </thead>\n",
              "  <tbody>\n",
              "    <tr>\n",
              "      <th>0</th>\n",
              "      <td>sul</td>\n",
              "      <td>60 m² construídos2 quartos</td>\n",
              "      <td>Avenida Cupecê, Jardim Prudência, São Paulo Zo...</td>\n",
              "      <td>820.0</td>\n",
              "      <td>60.0</td>\n",
              "      <td>2</td>\n",
              "    </tr>\n",
              "    <tr>\n",
              "      <th>1</th>\n",
              "      <td>sul</td>\n",
              "      <td>35 m² construídos1 quarto</td>\n",
              "      <td>Rua Moinho Velho, Moinho Velho, São Paulo Zona...</td>\n",
              "      <td>600.0</td>\n",
              "      <td>35.0</td>\n",
              "      <td>1</td>\n",
              "    </tr>\n",
              "    <tr>\n",
              "      <th>2</th>\n",
              "      <td>sul</td>\n",
              "      <td>65 m² construídos3 quartos</td>\n",
              "      <td>Rua Grumixamas, Vila Parque Jabaquara, São Pau...</td>\n",
              "      <td>1492.0</td>\n",
              "      <td>65.0</td>\n",
              "      <td>3</td>\n",
              "    </tr>\n",
              "    <tr>\n",
              "      <th>3</th>\n",
              "      <td>sul</td>\n",
              "      <td>40 m² construídos1 quarto</td>\n",
              "      <td>Rua Dos Patriotas, Ipiranga, São Paulo Zona Su...</td>\n",
              "      <td>1200.0</td>\n",
              "      <td>40.0</td>\n",
              "      <td>1</td>\n",
              "    </tr>\n",
              "    <tr>\n",
              "      <th>4</th>\n",
              "      <td>sul</td>\n",
              "      <td>40 m² construídos1 quarto</td>\n",
              "      <td>Rua Inglês De Sousa, Jardim Da Glória, São Pau...</td>\n",
              "      <td>1300.0</td>\n",
              "      <td>40.0</td>\n",
              "      <td>1</td>\n",
              "    </tr>\n",
              "  </tbody>\n",
              "</table>\n",
              "</div>"
            ],
            "text/plain": [
              "  zonas               areas_quartos  ... areas  quartos\n",
              "0   sul  60 m² construídos2 quartos  ...  60.0        2\n",
              "1   sul   35 m² construídos1 quarto  ...  35.0        1\n",
              "2   sul  65 m² construídos3 quartos  ...  65.0        3\n",
              "3   sul   40 m² construídos1 quarto  ...  40.0        1\n",
              "4   sul   40 m² construídos1 quarto  ...  40.0        1\n",
              "\n",
              "[5 rows x 6 columns]"
            ]
          },
          "metadata": {
            "tags": []
          },
          "execution_count": 53
        }
      ]
    },
    {
      "cell_type": "code",
      "metadata": {
        "id": "-6xedsf5-E6w"
      },
      "source": [
        "df_ml = df_ml.drop('areas_quartos', axis=1) #, inplace=True)\n",
        "# podemos rodar com o inplace que já executa direto no dado original, aconselho cautela"
      ],
      "execution_count": 54,
      "outputs": []
    },
    {
      "cell_type": "code",
      "metadata": {
        "colab": {
          "base_uri": "https://localhost:8080/",
          "height": 202
        },
        "id": "-rES8Vme-WCK",
        "outputId": "6acac519-a98d-40c9-fc35-a6acb0c42e19"
      },
      "source": [
        "df_ml.head()"
      ],
      "execution_count": 55,
      "outputs": [
        {
          "output_type": "execute_result",
          "data": {
            "text/html": [
              "<div>\n",
              "<style scoped>\n",
              "    .dataframe tbody tr th:only-of-type {\n",
              "        vertical-align: middle;\n",
              "    }\n",
              "\n",
              "    .dataframe tbody tr th {\n",
              "        vertical-align: top;\n",
              "    }\n",
              "\n",
              "    .dataframe thead th {\n",
              "        text-align: right;\n",
              "    }\n",
              "</style>\n",
              "<table border=\"1\" class=\"dataframe\">\n",
              "  <thead>\n",
              "    <tr style=\"text-align: right;\">\n",
              "      <th></th>\n",
              "      <th>zonas</th>\n",
              "      <th>enderecos</th>\n",
              "      <th>precos</th>\n",
              "      <th>areas</th>\n",
              "      <th>quartos</th>\n",
              "    </tr>\n",
              "  </thead>\n",
              "  <tbody>\n",
              "    <tr>\n",
              "      <th>0</th>\n",
              "      <td>sul</td>\n",
              "      <td>Avenida Cupecê, Jardim Prudência, São Paulo Zo...</td>\n",
              "      <td>820.0</td>\n",
              "      <td>60.0</td>\n",
              "      <td>2</td>\n",
              "    </tr>\n",
              "    <tr>\n",
              "      <th>1</th>\n",
              "      <td>sul</td>\n",
              "      <td>Rua Moinho Velho, Moinho Velho, São Paulo Zona...</td>\n",
              "      <td>600.0</td>\n",
              "      <td>35.0</td>\n",
              "      <td>1</td>\n",
              "    </tr>\n",
              "    <tr>\n",
              "      <th>2</th>\n",
              "      <td>sul</td>\n",
              "      <td>Rua Grumixamas, Vila Parque Jabaquara, São Pau...</td>\n",
              "      <td>1492.0</td>\n",
              "      <td>65.0</td>\n",
              "      <td>3</td>\n",
              "    </tr>\n",
              "    <tr>\n",
              "      <th>3</th>\n",
              "      <td>sul</td>\n",
              "      <td>Rua Dos Patriotas, Ipiranga, São Paulo Zona Su...</td>\n",
              "      <td>1200.0</td>\n",
              "      <td>40.0</td>\n",
              "      <td>1</td>\n",
              "    </tr>\n",
              "    <tr>\n",
              "      <th>4</th>\n",
              "      <td>sul</td>\n",
              "      <td>Rua Inglês De Sousa, Jardim Da Glória, São Pau...</td>\n",
              "      <td>1300.0</td>\n",
              "      <td>40.0</td>\n",
              "      <td>1</td>\n",
              "    </tr>\n",
              "  </tbody>\n",
              "</table>\n",
              "</div>"
            ],
            "text/plain": [
              "  zonas                                          enderecos  ...  areas  quartos\n",
              "0   sul  Avenida Cupecê, Jardim Prudência, São Paulo Zo...  ...   60.0        2\n",
              "1   sul  Rua Moinho Velho, Moinho Velho, São Paulo Zona...  ...   35.0        1\n",
              "2   sul  Rua Grumixamas, Vila Parque Jabaquara, São Pau...  ...   65.0        3\n",
              "3   sul  Rua Dos Patriotas, Ipiranga, São Paulo Zona Su...  ...   40.0        1\n",
              "4   sul  Rua Inglês De Sousa, Jardim Da Glória, São Pau...  ...   40.0        1\n",
              "\n",
              "[5 rows x 5 columns]"
            ]
          },
          "metadata": {
            "tags": []
          },
          "execution_count": 55
        }
      ]
    },
    {
      "cell_type": "code",
      "metadata": {
        "id": "_eHnty07_Shi"
      },
      "source": [
        ""
      ],
      "execution_count": 55,
      "outputs": []
    },
    {
      "cell_type": "markdown",
      "metadata": {
        "id": "Asp7ielLDFMm"
      },
      "source": [
        "## Extra: exemplo sobre zip"
      ]
    },
    {
      "cell_type": "code",
      "metadata": {
        "id": "3jNkZKDfC6Gl"
      },
      "source": [
        "lista_numeros = [1, 2, 3, 4]\n",
        "lista_alimentos = ['banana', 'maca', 'feijao', 'arroz']"
      ],
      "execution_count": 56,
      "outputs": []
    },
    {
      "cell_type": "code",
      "metadata": {
        "colab": {
          "base_uri": "https://localhost:8080/"
        },
        "id": "6iTLJymvDJhr",
        "outputId": "d7b964bf-e4aa-4840-8ff1-96abfc284d7e"
      },
      "source": [
        "lista_numeros"
      ],
      "execution_count": 57,
      "outputs": [
        {
          "output_type": "execute_result",
          "data": {
            "text/plain": [
              "[1, 2, 3, 4]"
            ]
          },
          "metadata": {
            "tags": []
          },
          "execution_count": 57
        }
      ]
    },
    {
      "cell_type": "code",
      "metadata": {
        "colab": {
          "base_uri": "https://localhost:8080/"
        },
        "id": "utc5iu2sDLcR",
        "outputId": "4772ed3b-54a2-4882-d1cb-87e21f61bd29"
      },
      "source": [
        "lista_alimentos"
      ],
      "execution_count": 58,
      "outputs": [
        {
          "output_type": "execute_result",
          "data": {
            "text/plain": [
              "['banana', 'maca', 'feijao', 'arroz']"
            ]
          },
          "metadata": {
            "tags": []
          },
          "execution_count": 58
        }
      ]
    },
    {
      "cell_type": "code",
      "metadata": {
        "colab": {
          "base_uri": "https://localhost:8080/"
        },
        "id": "fAh7iO1hDODp",
        "outputId": "2cf51c7c-f6a7-421d-c118-45db856f0d83"
      },
      "source": [
        "for numero in lista_numeros:\n",
        "  print(numero)"
      ],
      "execution_count": 59,
      "outputs": [
        {
          "output_type": "stream",
          "text": [
            "1\n",
            "2\n",
            "3\n",
            "4\n"
          ],
          "name": "stdout"
        }
      ]
    },
    {
      "cell_type": "code",
      "metadata": {
        "colab": {
          "base_uri": "https://localhost:8080/"
        },
        "id": "jglWxZFnDmyD",
        "outputId": "724d65d3-2dc8-449c-caa5-c8bdf15243ca"
      },
      "source": [
        "for alimento in lista_alimentos:\n",
        "  #print(alimento + str(2)) -- essa é uma linha de comentário e ela será ignorada pelo Python\n",
        "  print(alimento)"
      ],
      "execution_count": 60,
      "outputs": [
        {
          "output_type": "stream",
          "text": [
            "banana\n",
            "maca\n",
            "feijao\n",
            "arroz\n"
          ],
          "name": "stdout"
        }
      ]
    },
    {
      "cell_type": "code",
      "metadata": {
        "colab": {
          "base_uri": "https://localhost:8080/"
        },
        "id": "-glqG5KfEfnb",
        "outputId": "c15463c5-4cc5-4c10-987f-9951df5ad590"
      },
      "source": [
        "for numero, alimento in zip(lista_numeros, lista_alimentos):\n",
        "  print(numero, alimento)"
      ],
      "execution_count": 61,
      "outputs": [
        {
          "output_type": "stream",
          "text": [
            "1 banana\n",
            "2 maca\n",
            "3 feijao\n",
            "4 arroz\n"
          ],
          "name": "stdout"
        }
      ]
    }
  ]
}