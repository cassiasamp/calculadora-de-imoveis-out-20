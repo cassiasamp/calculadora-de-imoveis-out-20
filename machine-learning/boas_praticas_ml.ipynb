{
  "nbformat": 4,
  "nbformat_minor": 0,
  "metadata": {
    "colab": {
      "name": "boas_praticas_ml.ipynb",
      "provenance": [],
      "collapsed_sections": []
    },
    "kernelspec": {
      "name": "python3",
      "display_name": "Python 3"
    }
  },
  "cells": [
    {
      "cell_type": "markdown",
      "metadata": {
        "id": "gFzQV1py16_j"
      },
      "source": [
        "## 3. Machine Learning"
      ]
    },
    {
      "cell_type": "markdown",
      "metadata": {
        "id": "7emCkyBA9CI2"
      },
      "source": [
        "### 3.1 Importar Dados, fazer preprocessamento e dividir entre treino e teste"
      ]
    },
    {
      "cell_type": "code",
      "metadata": {
        "id": "bt3Yh07N9IJ_"
      },
      "source": [
        "import pandas as pd\n",
        "dados = pd.read_csv('https://raw.githubusercontent.com/cassiasamp/calculadora-de-imoveis-out-20/main/coleta-de-dados/dados_tratados_mercado_livre.csv')"
      ],
      "execution_count": 1,
      "outputs": []
    },
    {
      "cell_type": "code",
      "metadata": {
        "colab": {
          "base_uri": "https://localhost:8080/",
          "height": 198
        },
        "id": "0Rp2l8qZpW3i",
        "outputId": "f8bd0954-a761-4bd4-c959-6fb433f6d0da"
      },
      "source": [
        "dados.head()"
      ],
      "execution_count": 2,
      "outputs": [
        {
          "output_type": "execute_result",
          "data": {
            "text/html": [
              "<div>\n",
              "<style scoped>\n",
              "    .dataframe tbody tr th:only-of-type {\n",
              "        vertical-align: middle;\n",
              "    }\n",
              "\n",
              "    .dataframe tbody tr th {\n",
              "        vertical-align: top;\n",
              "    }\n",
              "\n",
              "    .dataframe thead th {\n",
              "        text-align: right;\n",
              "    }\n",
              "</style>\n",
              "<table border=\"1\" class=\"dataframe\">\n",
              "  <thead>\n",
              "    <tr style=\"text-align: right;\">\n",
              "      <th></th>\n",
              "      <th>zonas</th>\n",
              "      <th>enderecos</th>\n",
              "      <th>precos</th>\n",
              "      <th>areas</th>\n",
              "      <th>quartos</th>\n",
              "    </tr>\n",
              "  </thead>\n",
              "  <tbody>\n",
              "    <tr>\n",
              "      <th>0</th>\n",
              "      <td>sul</td>\n",
              "      <td>Rua Doutor Ferreira Lopes, Vila Sofia, São Pau...</td>\n",
              "      <td>1100.0</td>\n",
              "      <td>90.0</td>\n",
              "      <td>3.0</td>\n",
              "    </tr>\n",
              "    <tr>\n",
              "      <th>1</th>\n",
              "      <td>sul</td>\n",
              "      <td>Avenida Dos Ourives, Jardim São Savério, São P...</td>\n",
              "      <td>1000.0</td>\n",
              "      <td>63.0</td>\n",
              "      <td>3.0</td>\n",
              "    </tr>\n",
              "    <tr>\n",
              "      <th>2</th>\n",
              "      <td>sul</td>\n",
              "      <td>Rua Doutor Nicolau Alberto Defina, Jardim Da S...</td>\n",
              "      <td>1224.0</td>\n",
              "      <td>68.0</td>\n",
              "      <td>2.0</td>\n",
              "    </tr>\n",
              "    <tr>\n",
              "      <th>3</th>\n",
              "      <td>sul</td>\n",
              "      <td>Avenida Carlos Liviero, Vila Liviero, São Paul...</td>\n",
              "      <td>1300.0</td>\n",
              "      <td>48.0</td>\n",
              "      <td>2.0</td>\n",
              "    </tr>\n",
              "    <tr>\n",
              "      <th>4</th>\n",
              "      <td>sul</td>\n",
              "      <td>Rua Armando Ramos Filho, Moinho Velho, São Pau...</td>\n",
              "      <td>830.0</td>\n",
              "      <td>40.0</td>\n",
              "      <td>1.0</td>\n",
              "    </tr>\n",
              "  </tbody>\n",
              "</table>\n",
              "</div>"
            ],
            "text/plain": [
              "  zonas                                          enderecos  ...  areas  quartos\n",
              "0   sul  Rua Doutor Ferreira Lopes, Vila Sofia, São Pau...  ...   90.0      3.0\n",
              "1   sul  Avenida Dos Ourives, Jardim São Savério, São P...  ...   63.0      3.0\n",
              "2   sul  Rua Doutor Nicolau Alberto Defina, Jardim Da S...  ...   68.0      2.0\n",
              "3   sul  Avenida Carlos Liviero, Vila Liviero, São Paul...  ...   48.0      2.0\n",
              "4   sul  Rua Armando Ramos Filho, Moinho Velho, São Pau...  ...   40.0      1.0\n",
              "\n",
              "[5 rows x 5 columns]"
            ]
          },
          "metadata": {
            "tags": []
          },
          "execution_count": 2
        }
      ]
    },
    {
      "cell_type": "code",
      "metadata": {
        "colab": {
          "base_uri": "https://localhost:8080/"
        },
        "id": "g9haP4dApZlT",
        "outputId": "cc4247ae-e51c-49a8-9809-9ffc371cb293"
      },
      "source": [
        "dados.info()"
      ],
      "execution_count": 3,
      "outputs": [
        {
          "output_type": "stream",
          "text": [
            "<class 'pandas.core.frame.DataFrame'>\n",
            "RangeIndex: 960 entries, 0 to 959\n",
            "Data columns (total 5 columns):\n",
            " #   Column     Non-Null Count  Dtype  \n",
            "---  ------     --------------  -----  \n",
            " 0   zonas      960 non-null    object \n",
            " 1   enderecos  960 non-null    object \n",
            " 2   precos     960 non-null    float64\n",
            " 3   areas      960 non-null    float64\n",
            " 4   quartos    958 non-null    float64\n",
            "dtypes: float64(3), object(2)\n",
            "memory usage: 37.6+ KB\n"
          ],
          "name": "stdout"
        }
      ]
    },
    {
      "cell_type": "code",
      "metadata": {
        "id": "PoN-aeTWpbpl"
      },
      "source": [
        "X = dados.drop(columns=['precos', 'enderecos'])"
      ],
      "execution_count": 4,
      "outputs": []
    },
    {
      "cell_type": "code",
      "metadata": {
        "colab": {
          "base_uri": "https://localhost:8080/"
        },
        "id": "rJ7ZQOlnpmz3",
        "outputId": "c5330859-6a50-41b8-f09d-db2b4d2f4b0d"
      },
      "source": [
        "X.isna().sum()"
      ],
      "execution_count": 5,
      "outputs": [
        {
          "output_type": "execute_result",
          "data": {
            "text/plain": [
              "zonas      0\n",
              "areas      0\n",
              "quartos    2\n",
              "dtype: int64"
            ]
          },
          "metadata": {
            "tags": []
          },
          "execution_count": 5
        }
      ]
    },
    {
      "cell_type": "code",
      "metadata": {
        "id": "QLvpaVqmppfp"
      },
      "source": [
        "X.fillna(value=dados['quartos'].median(), inplace=True)"
      ],
      "execution_count": 6,
      "outputs": []
    },
    {
      "cell_type": "code",
      "metadata": {
        "id": "siiOkbTFqea8"
      },
      "source": [
        "X = pd.get_dummies(X)"
      ],
      "execution_count": 7,
      "outputs": []
    },
    {
      "cell_type": "code",
      "metadata": {
        "colab": {
          "base_uri": "https://localhost:8080/",
          "height": 198
        },
        "id": "Q8CaLtSKrIxc",
        "outputId": "63b7f858-7aca-42e9-eee6-64694f608ba7"
      },
      "source": [
        "X.head()"
      ],
      "execution_count": 8,
      "outputs": [
        {
          "output_type": "execute_result",
          "data": {
            "text/html": [
              "<div>\n",
              "<style scoped>\n",
              "    .dataframe tbody tr th:only-of-type {\n",
              "        vertical-align: middle;\n",
              "    }\n",
              "\n",
              "    .dataframe tbody tr th {\n",
              "        vertical-align: top;\n",
              "    }\n",
              "\n",
              "    .dataframe thead th {\n",
              "        text-align: right;\n",
              "    }\n",
              "</style>\n",
              "<table border=\"1\" class=\"dataframe\">\n",
              "  <thead>\n",
              "    <tr style=\"text-align: right;\">\n",
              "      <th></th>\n",
              "      <th>areas</th>\n",
              "      <th>quartos</th>\n",
              "      <th>zonas_leste</th>\n",
              "      <th>zonas_norte</th>\n",
              "      <th>zonas_oeste</th>\n",
              "      <th>zonas_sul</th>\n",
              "    </tr>\n",
              "  </thead>\n",
              "  <tbody>\n",
              "    <tr>\n",
              "      <th>0</th>\n",
              "      <td>90.0</td>\n",
              "      <td>3.0</td>\n",
              "      <td>0</td>\n",
              "      <td>0</td>\n",
              "      <td>0</td>\n",
              "      <td>1</td>\n",
              "    </tr>\n",
              "    <tr>\n",
              "      <th>1</th>\n",
              "      <td>63.0</td>\n",
              "      <td>3.0</td>\n",
              "      <td>0</td>\n",
              "      <td>0</td>\n",
              "      <td>0</td>\n",
              "      <td>1</td>\n",
              "    </tr>\n",
              "    <tr>\n",
              "      <th>2</th>\n",
              "      <td>68.0</td>\n",
              "      <td>2.0</td>\n",
              "      <td>0</td>\n",
              "      <td>0</td>\n",
              "      <td>0</td>\n",
              "      <td>1</td>\n",
              "    </tr>\n",
              "    <tr>\n",
              "      <th>3</th>\n",
              "      <td>48.0</td>\n",
              "      <td>2.0</td>\n",
              "      <td>0</td>\n",
              "      <td>0</td>\n",
              "      <td>0</td>\n",
              "      <td>1</td>\n",
              "    </tr>\n",
              "    <tr>\n",
              "      <th>4</th>\n",
              "      <td>40.0</td>\n",
              "      <td>1.0</td>\n",
              "      <td>0</td>\n",
              "      <td>0</td>\n",
              "      <td>0</td>\n",
              "      <td>1</td>\n",
              "    </tr>\n",
              "  </tbody>\n",
              "</table>\n",
              "</div>"
            ],
            "text/plain": [
              "   areas  quartos  zonas_leste  zonas_norte  zonas_oeste  zonas_sul\n",
              "0   90.0      3.0            0            0            0          1\n",
              "1   63.0      3.0            0            0            0          1\n",
              "2   68.0      2.0            0            0            0          1\n",
              "3   48.0      2.0            0            0            0          1\n",
              "4   40.0      1.0            0            0            0          1"
            ]
          },
          "metadata": {
            "tags": []
          },
          "execution_count": 8
        }
      ]
    },
    {
      "cell_type": "code",
      "metadata": {
        "id": "8q607O2Pp5vA"
      },
      "source": [
        "y = dados['precos']"
      ],
      "execution_count": 9,
      "outputs": []
    },
    {
      "cell_type": "code",
      "metadata": {
        "colab": {
          "base_uri": "https://localhost:8080/"
        },
        "id": "vJiiJXbvp9Ep",
        "outputId": "a8e5a2e0-a6c4-4cf1-c8f9-7136c6fbfa04"
      },
      "source": [
        "y.isna().sum()"
      ],
      "execution_count": 10,
      "outputs": [
        {
          "output_type": "execute_result",
          "data": {
            "text/plain": [
              "0"
            ]
          },
          "metadata": {
            "tags": []
          },
          "execution_count": 10
        }
      ]
    },
    {
      "cell_type": "code",
      "metadata": {
        "id": "NM1-VsfJo4Cx"
      },
      "source": [
        "from sklearn.model_selection import train_test_split\n",
        "\n",
        "SEED = 42\n",
        "X_train, X_test, y_train, y_test = train_test_split(X, y, \n",
        "                                                    random_state = SEED,\n",
        "                                                    test_size = 0.25)"
      ],
      "execution_count": 11,
      "outputs": []
    },
    {
      "cell_type": "markdown",
      "metadata": {
        "id": "EhEkmbXmRD4F"
      },
      "source": [
        "### 3.2 Modelo \"Baseline\" (Ponto de Partida)"
      ]
    },
    {
      "cell_type": "code",
      "metadata": {
        "id": "pWm_9peL18_t",
        "colab": {
          "base_uri": "https://localhost:8080/"
        },
        "outputId": "2647dcf6-fe85-41b0-e731-9ddae93b8fe6"
      },
      "source": [
        "from sklearn.linear_model import LinearRegression\n",
        "lr = LinearRegression()\n",
        "lr.fit(X_train, y_train)\n",
        "lr.score(X_test, y_test)"
      ],
      "execution_count": 12,
      "outputs": [
        {
          "output_type": "execute_result",
          "data": {
            "text/plain": [
              "0.6329788306128329"
            ]
          },
          "metadata": {
            "tags": []
          },
          "execution_count": 12
        }
      ]
    },
    {
      "cell_type": "code",
      "metadata": {
        "id": "IDt3P5NYSTBb",
        "colab": {
          "base_uri": "https://localhost:8080/"
        },
        "outputId": "70c14974-35c9-4218-ee78-0cb6ecc42c7d"
      },
      "source": [
        "from sklearn.dummy import DummyRegressor\n",
        "reg = DummyRegressor(strategy='mean')\n",
        "reg.fit(X_train, y_train)\n",
        "reg.score(X_test, y_test)"
      ],
      "execution_count": 13,
      "outputs": [
        {
          "output_type": "execute_result",
          "data": {
            "text/plain": [
              "-0.0021105807908479157"
            ]
          },
          "metadata": {
            "tags": []
          },
          "execution_count": 13
        }
      ]
    },
    {
      "cell_type": "markdown",
      "metadata": {
        "id": "QsHKsNbaSDPM"
      },
      "source": [
        "### 3.3 Fazer triagem entre diferentes estimadores"
      ]
    },
    {
      "cell_type": "code",
      "metadata": {
        "id": "uDpvo7Fs193_"
      },
      "source": [
        "from sklearn.linear_model import RidgeCV, Lasso, ElasticNet, LassoLars, HuberRegressor\n",
        "from sklearn.svm import SVR\n",
        "from sklearn.neighbors import KNeighborsRegressor\n",
        "from sklearn.ensemble import GradientBoostingRegressor, AdaBoostRegressor\n",
        "from sklearn.neural_network import MLPRegressor\n",
        "from sklearn.ensemble import RandomForestRegressor\n",
        "from lightgbm import LGBMRegressor\n",
        "from xgboost import XGBRegressor"
      ],
      "execution_count": 14,
      "outputs": []
    },
    {
      "cell_type": "code",
      "metadata": {
        "id": "zE6jqA7019w8"
      },
      "source": [
        "reg_list = [RidgeCV(),\n",
        "            LGBMRegressor(), \n",
        "            XGBRegressor(objective='reg:squarederror'),\n",
        "            SVR(),\n",
        "            KNeighborsRegressor(),\n",
        "            RandomForestRegressor(),\n",
        "            AdaBoostRegressor(),\n",
        "            GradientBoostingRegressor(),\n",
        "            MLPRegressor()\n",
        "            ]"
      ],
      "execution_count": 15,
      "outputs": []
    },
    {
      "cell_type": "code",
      "metadata": {
        "id": "_s-gvXW1Tc8a",
        "colab": {
          "base_uri": "https://localhost:8080/"
        },
        "outputId": "c0ae94f4-e375-4fac-b148-bfc394546c0d"
      },
      "source": [
        "from sklearn.model_selection import cross_val_score\n",
        "import numpy as np\n",
        "\n",
        "for reg in reg_list:\n",
        "    print(f'Treinando Modelo {reg.__class__.__name__}')\n",
        "    reg.fit(X_train, y_train)\n",
        "    \n",
        "    train_score = reg.score(X_train, y_train)\n",
        "    cv_scores = cross_val_score(reg, X_train, y_train)\n",
        "    test_score = reg.score(X_test, y_test)\n",
        "    \n",
        "    print(f\"R2 Score Train: {train_score}\")\n",
        "    print(f\"R2 Score Valid: {np.mean(cv_scores):.2f} +- {np.std(cv_scores):.2f}\")\n",
        "    print(f\"R2 Score Test: {test_score}\")\n",
        "    print('='*80)"
      ],
      "execution_count": 16,
      "outputs": [
        {
          "output_type": "stream",
          "text": [
            "Treinando Modelo RidgeCV\n",
            "R2 Score Train: 0.49188413265417735\n",
            "R2 Score Valid: 0.46 +- 0.09\n",
            "R2 Score Test: 0.6317473502556512\n",
            "================================================================================\n",
            "Treinando Modelo LGBMRegressor\n",
            "R2 Score Train: 0.6470079027503934\n",
            "R2 Score Valid: 0.42 +- 0.07\n",
            "R2 Score Test: 0.5528611579994934\n",
            "================================================================================\n",
            "Treinando Modelo XGBRegressor\n",
            "R2 Score Train: 0.7134827955049117\n",
            "R2 Score Valid: 0.41 +- 0.10\n",
            "R2 Score Test: 0.5451184805634111\n",
            "================================================================================\n",
            "Treinando Modelo SVR\n",
            "R2 Score Train: -0.05041318871480094\n",
            "R2 Score Valid: -0.06 +- 0.02\n",
            "R2 Score Test: -0.07704036741649878\n",
            "================================================================================\n",
            "Treinando Modelo KNeighborsRegressor\n",
            "R2 Score Train: 0.6255605862521028\n",
            "R2 Score Valid: 0.38 +- 0.08\n",
            "R2 Score Test: 0.4229946626464409\n",
            "================================================================================\n",
            "Treinando Modelo RandomForestRegressor\n",
            "R2 Score Train: 0.8492137573525922\n",
            "R2 Score Valid: 0.35 +- 0.13\n",
            "R2 Score Test: 0.41562347112671594\n",
            "================================================================================\n",
            "Treinando Modelo AdaBoostRegressor\n",
            "R2 Score Train: 0.531461325012763\n",
            "R2 Score Valid: 0.34 +- 0.20\n",
            "R2 Score Test: 0.43205411486227485\n",
            "================================================================================\n",
            "Treinando Modelo GradientBoostingRegressor\n",
            "R2 Score Train: 0.7463084820407115\n",
            "R2 Score Valid: 0.43 +- 0.09\n",
            "R2 Score Test: 0.5169369137307914\n",
            "================================================================================\n",
            "Treinando Modelo MLPRegressor\n"
          ],
          "name": "stdout"
        },
        {
          "output_type": "stream",
          "text": [
            "/usr/local/lib/python3.6/dist-packages/sklearn/neural_network/_multilayer_perceptron.py:571: ConvergenceWarning: Stochastic Optimizer: Maximum iterations (200) reached and the optimization hasn't converged yet.\n",
            "  % self.max_iter, ConvergenceWarning)\n",
            "/usr/local/lib/python3.6/dist-packages/sklearn/neural_network/_multilayer_perceptron.py:571: ConvergenceWarning: Stochastic Optimizer: Maximum iterations (200) reached and the optimization hasn't converged yet.\n",
            "  % self.max_iter, ConvergenceWarning)\n",
            "/usr/local/lib/python3.6/dist-packages/sklearn/neural_network/_multilayer_perceptron.py:571: ConvergenceWarning: Stochastic Optimizer: Maximum iterations (200) reached and the optimization hasn't converged yet.\n",
            "  % self.max_iter, ConvergenceWarning)\n",
            "/usr/local/lib/python3.6/dist-packages/sklearn/neural_network/_multilayer_perceptron.py:571: ConvergenceWarning: Stochastic Optimizer: Maximum iterations (200) reached and the optimization hasn't converged yet.\n",
            "  % self.max_iter, ConvergenceWarning)\n",
            "/usr/local/lib/python3.6/dist-packages/sklearn/neural_network/_multilayer_perceptron.py:571: ConvergenceWarning: Stochastic Optimizer: Maximum iterations (200) reached and the optimization hasn't converged yet.\n",
            "  % self.max_iter, ConvergenceWarning)\n"
          ],
          "name": "stderr"
        },
        {
          "output_type": "stream",
          "text": [
            "R2 Score Train: 0.2972573492038131\n",
            "R2 Score Valid: 0.21 +- 0.18\n",
            "R2 Score Test: 0.4950952957532034\n",
            "================================================================================\n"
          ],
          "name": "stdout"
        },
        {
          "output_type": "stream",
          "text": [
            "/usr/local/lib/python3.6/dist-packages/sklearn/neural_network/_multilayer_perceptron.py:571: ConvergenceWarning: Stochastic Optimizer: Maximum iterations (200) reached and the optimization hasn't converged yet.\n",
            "  % self.max_iter, ConvergenceWarning)\n"
          ],
          "name": "stderr"
        }
      ]
    },
    {
      "cell_type": "code",
      "metadata": {
        "id": "7JWKZZv8Tdec"
      },
      "source": [
        "# Bonus: Testando com todos os regressores do sklearn\n",
        "from sklearn.utils import all_estimators\n",
        "\n",
        "estimators = all_estimators(type_filter='regressor')\n",
        "\n",
        "relatorio = {'nome':[],\n",
        "             'train_score':[],\n",
        "             'cv_scores_mean':[],\n",
        "             'test_score':[],\n",
        "             'estimador':[]\n",
        "             }\n",
        "\n",
        "ignore_list = ['IsotonicRegression',\n",
        " 'MultiOutputRegressor',\n",
        " 'ElasticNet',\n",
        " 'MultiTaskElasticNet',\n",
        " 'MultiTaskElasticNetCV',\n",
        " 'MultiTaskLasso',\n",
        " 'MultiTaskLassoCV',\n",
        " 'RadiusNeighborsRegressor',\n",
        " 'RegressorChain',\n",
        " 'StackingRegressor',\n",
        " 'VotingRegressor']\n"
      ],
      "execution_count": 17,
      "outputs": []
    },
    {
      "cell_type": "code",
      "metadata": {
        "id": "dxMCaBxI_Vx5"
      },
      "source": [
        "estimators.extend(\n",
        "    [('LGBMRegressor', LGBMRegressor),\n",
        "     ('XGBRegressor', XGBRegressor)]\n",
        ")"
      ],
      "execution_count": 18,
      "outputs": []
    },
    {
      "cell_type": "code",
      "metadata": {
        "id": "CApLK47B_T9u",
        "colab": {
          "base_uri": "https://localhost:8080/"
        },
        "outputId": "e3f756f6-2206-4cd4-906d-da6b9290d915"
      },
      "source": [
        "for name, RegressorClass in estimators:\n",
        "  if name not in ignore_list:\n",
        "    print(f'Treinando Modelo {name}')\n",
        "    reg = RegressorClass()\n",
        "    reg.fit(X_train, y_train)\n",
        "\n",
        "    train_score = reg.score(X_train, y_train)\n",
        "    cv_scores = cross_val_score(reg, X_train, y_train)\n",
        "    test_score = reg.score(X_test, y_test)\n",
        "\n",
        "    print(f\"R2 Score Train: {train_score}\")\n",
        "    print(f\"R2 Score Valid: {np.mean(cv_scores):.2f} +- {np.std(cv_scores):.2f}\")\n",
        "    print(f\"R2 Score Test: {test_score}\")\n",
        "    print('='*80)\n",
        "\n",
        "    relatorio['nome'].append(name)\n",
        "    relatorio['train_score'].append(train_score)\n",
        "    relatorio['cv_scores_mean'].append(np.mean(cv_scores))\n",
        "    relatorio['test_score'].append(test_score)\n",
        "    relatorio['estimador'].append(reg)"
      ],
      "execution_count": 19,
      "outputs": [
        {
          "output_type": "stream",
          "text": [
            "Treinando Modelo ARDRegression\n",
            "R2 Score Train: 0.49137185924316024\n",
            "R2 Score Valid: 0.46 +- 0.09\n",
            "R2 Score Test: 0.6292897193646995\n",
            "================================================================================\n",
            "Treinando Modelo AdaBoostRegressor\n",
            "R2 Score Train: 0.547276126856356\n",
            "R2 Score Valid: 0.28 +- 0.19\n",
            "R2 Score Test: 0.45928969453158885\n",
            "================================================================================\n",
            "Treinando Modelo BaggingRegressor\n",
            "R2 Score Train: 0.827456235565963\n",
            "R2 Score Valid: 0.28 +- 0.16\n",
            "R2 Score Test: 0.3628702414805011\n",
            "================================================================================\n",
            "Treinando Modelo BayesianRidge\n",
            "R2 Score Train: 0.49184425500567636\n",
            "R2 Score Valid: 0.46 +- 0.09\n",
            "R2 Score Test: 0.631590387202928\n",
            "================================================================================\n",
            "Treinando Modelo CCA\n"
          ],
          "name": "stdout"
        },
        {
          "output_type": "stream",
          "text": [
            "/usr/local/lib/python3.6/dist-packages/sklearn/cross_decomposition/_pls.py:321: UserWarning: Y residual constant at iteration 1\n",
            "  warnings.warn('Y residual constant at iteration %s' % k)\n",
            "/usr/local/lib/python3.6/dist-packages/sklearn/cross_decomposition/_pls.py:321: UserWarning: Y residual constant at iteration 1\n",
            "  warnings.warn('Y residual constant at iteration %s' % k)\n",
            "/usr/local/lib/python3.6/dist-packages/sklearn/cross_decomposition/_pls.py:321: UserWarning: Y residual constant at iteration 1\n",
            "  warnings.warn('Y residual constant at iteration %s' % k)\n",
            "/usr/local/lib/python3.6/dist-packages/sklearn/cross_decomposition/_pls.py:321: UserWarning: Y residual constant at iteration 1\n",
            "  warnings.warn('Y residual constant at iteration %s' % k)\n",
            "/usr/local/lib/python3.6/dist-packages/sklearn/cross_decomposition/_pls.py:321: UserWarning: Y residual constant at iteration 1\n",
            "  warnings.warn('Y residual constant at iteration %s' % k)\n",
            "/usr/local/lib/python3.6/dist-packages/sklearn/cross_decomposition/_pls.py:321: UserWarning: Y residual constant at iteration 1\n",
            "  warnings.warn('Y residual constant at iteration %s' % k)\n"
          ],
          "name": "stderr"
        },
        {
          "output_type": "stream",
          "text": [
            "R2 Score Train: 0.3549579020964707\n",
            "R2 Score Valid: 0.30 +- 0.17\n",
            "R2 Score Test: 0.601791481490159\n",
            "================================================================================\n",
            "Treinando Modelo DecisionTreeRegressor\n",
            "R2 Score Train: 0.9081632312421389\n",
            "R2 Score Valid: 0.04 +- 0.28\n",
            "R2 Score Test: 0.2034805012068954\n",
            "================================================================================\n",
            "Treinando Modelo DummyRegressor\n",
            "R2 Score Train: 0.0\n",
            "R2 Score Valid: -0.01 +- 0.00\n",
            "R2 Score Test: -0.0021105807908479157\n",
            "================================================================================\n",
            "Treinando Modelo ElasticNetCV\n",
            "R2 Score Train: 0.42904684510175806\n",
            "R2 Score Valid: 0.39 +- 0.10\n",
            "R2 Score Test: 0.5494983495130374\n",
            "================================================================================\n",
            "Treinando Modelo ExtraTreeRegressor\n",
            "R2 Score Train: 0.9081632312421389\n",
            "R2 Score Valid: -0.03 +- 0.27\n",
            "R2 Score Test: 0.27694988520035024\n",
            "================================================================================\n",
            "Treinando Modelo ExtraTreesRegressor\n",
            "R2 Score Train: 0.9081632312421389\n",
            "R2 Score Valid: 0.24 +- 0.15\n",
            "R2 Score Test: 0.3852514600560468\n",
            "================================================================================\n",
            "Treinando Modelo GaussianProcessRegressor\n",
            "R2 Score Train: 0.9081632312400245\n",
            "R2 Score Valid: -0.46 +- 0.09\n",
            "R2 Score Test: -0.38443739344500555\n",
            "================================================================================\n",
            "Treinando Modelo GradientBoostingRegressor\n",
            "R2 Score Train: 0.7463084820407115\n",
            "R2 Score Valid: 0.43 +- 0.09\n",
            "R2 Score Test: 0.5187798160735397\n",
            "================================================================================\n",
            "Treinando Modelo HistGradientBoostingRegressor\n",
            "R2 Score Train: 0.6513459550883733\n",
            "R2 Score Valid: 0.41 +- 0.07\n",
            "R2 Score Test: 0.5532905802502954\n",
            "================================================================================\n",
            "Treinando Modelo HuberRegressor\n",
            "R2 Score Train: 0.47374152929725677\n",
            "R2 Score Valid: 0.44 +- 0.08\n",
            "R2 Score Test: 0.5927570721140845\n",
            "================================================================================\n",
            "Treinando Modelo KNeighborsRegressor\n",
            "R2 Score Train: 0.6255605862521028\n",
            "R2 Score Valid: 0.38 +- 0.08\n",
            "R2 Score Test: 0.4229946626464409\n",
            "================================================================================\n",
            "Treinando Modelo KernelRidge\n",
            "R2 Score Train: 0.4919975688737026\n",
            "R2 Score Valid: 0.46 +- 0.09\n",
            "R2 Score Test: 0.6340571952030356\n",
            "================================================================================\n",
            "Treinando Modelo Lars\n",
            "R2 Score Train: 0.49205349817573096\n",
            "R2 Score Valid: 0.46 +- 0.09\n",
            "R2 Score Test: 0.632978830612756\n",
            "================================================================================\n",
            "Treinando Modelo LarsCV\n",
            "R2 Score Train: 0.49205349817573096\n",
            "R2 Score Valid: 0.46 +- 0.09\n",
            "R2 Score Test: 0.632978830612756\n",
            "================================================================================\n",
            "Treinando Modelo Lasso\n",
            "R2 Score Train: 0.49204778451038617\n",
            "R2 Score Valid: 0.46 +- 0.09\n",
            "R2 Score Test: 0.6327098054189262\n",
            "================================================================================\n",
            "Treinando Modelo LassoCV\n",
            "R2 Score Train: 0.4581822484619531\n",
            "R2 Score Valid: 0.42 +- 0.10\n",
            "R2 Score Test: 0.5836645425638487\n",
            "================================================================================\n",
            "Treinando Modelo LassoLars\n",
            "R2 Score Train: 0.49111600487555745\n",
            "R2 Score Valid: 0.46 +- 0.08\n",
            "R2 Score Test: 0.6257459060125187\n",
            "================================================================================\n",
            "Treinando Modelo LassoLarsCV\n",
            "R2 Score Train: 0.49205349817573096\n",
            "R2 Score Valid: 0.46 +- 0.09\n",
            "R2 Score Test: 0.632978830612756\n",
            "================================================================================\n",
            "Treinando Modelo LassoLarsIC\n",
            "R2 Score Train: 0.49205349817573096\n",
            "R2 Score Valid: 0.46 +- 0.09\n",
            "R2 Score Test: 0.632978830612756\n",
            "================================================================================\n",
            "Treinando Modelo LinearRegression\n",
            "R2 Score Train: 0.4920534981757311\n",
            "R2 Score Valid: 0.46 +- 0.09\n",
            "R2 Score Test: 0.6329788306128329\n",
            "================================================================================\n",
            "Treinando Modelo LinearSVR\n",
            "R2 Score Train: 0.3719358778953834\n",
            "R2 Score Valid: 0.31 +- 0.15\n",
            "R2 Score Test: 0.5349209759601271\n",
            "================================================================================\n",
            "Treinando Modelo MLPRegressor\n"
          ],
          "name": "stdout"
        },
        {
          "output_type": "stream",
          "text": [
            "/usr/local/lib/python3.6/dist-packages/sklearn/neural_network/_multilayer_perceptron.py:571: ConvergenceWarning: Stochastic Optimizer: Maximum iterations (200) reached and the optimization hasn't converged yet.\n",
            "  % self.max_iter, ConvergenceWarning)\n",
            "/usr/local/lib/python3.6/dist-packages/sklearn/neural_network/_multilayer_perceptron.py:571: ConvergenceWarning: Stochastic Optimizer: Maximum iterations (200) reached and the optimization hasn't converged yet.\n",
            "  % self.max_iter, ConvergenceWarning)\n",
            "/usr/local/lib/python3.6/dist-packages/sklearn/neural_network/_multilayer_perceptron.py:571: ConvergenceWarning: Stochastic Optimizer: Maximum iterations (200) reached and the optimization hasn't converged yet.\n",
            "  % self.max_iter, ConvergenceWarning)\n",
            "/usr/local/lib/python3.6/dist-packages/sklearn/neural_network/_multilayer_perceptron.py:571: ConvergenceWarning: Stochastic Optimizer: Maximum iterations (200) reached and the optimization hasn't converged yet.\n",
            "  % self.max_iter, ConvergenceWarning)\n",
            "/usr/local/lib/python3.6/dist-packages/sklearn/neural_network/_multilayer_perceptron.py:571: ConvergenceWarning: Stochastic Optimizer: Maximum iterations (200) reached and the optimization hasn't converged yet.\n",
            "  % self.max_iter, ConvergenceWarning)\n",
            "/usr/local/lib/python3.6/dist-packages/sklearn/neural_network/_multilayer_perceptron.py:571: ConvergenceWarning: Stochastic Optimizer: Maximum iterations (200) reached and the optimization hasn't converged yet.\n",
            "  % self.max_iter, ConvergenceWarning)\n"
          ],
          "name": "stderr"
        },
        {
          "output_type": "stream",
          "text": [
            "R2 Score Train: 0.300735389345944\n",
            "R2 Score Valid: 0.19 +- 0.21\n",
            "R2 Score Test: 0.5006809886201347\n",
            "================================================================================\n",
            "Treinando Modelo NuSVR\n",
            "R2 Score Train: -0.003654518977640686\n",
            "R2 Score Valid: -0.01 +- 0.02\n",
            "R2 Score Test: -0.023984441026680736\n",
            "================================================================================\n",
            "Treinando Modelo OrthogonalMatchingPursuit\n",
            "R2 Score Train: 0.42907239963371213\n",
            "R2 Score Valid: 0.39 +- 0.10\n",
            "R2 Score Test: 0.5529606510303273\n",
            "================================================================================\n",
            "Treinando Modelo OrthogonalMatchingPursuitCV\n",
            "R2 Score Train: 0.4920534981757311\n",
            "R2 Score Valid: 0.46 +- 0.09\n",
            "R2 Score Test: 0.6329788306128309\n",
            "================================================================================\n",
            "Treinando Modelo PLSCanonical\n",
            "R2 Score Train: 0.101209198302176\n",
            "R2 Score Valid: 0.01 +- 0.29\n",
            "R2 Score Test: 0.3898849554005721\n",
            "================================================================================\n",
            "Treinando Modelo PLSRegression\n",
            "R2 Score Train: 0.4852585742768618\n",
            "R2 Score Valid: 0.45 +- 0.09\n",
            "R2 Score Test: 0.6280377232721785\n",
            "================================================================================\n",
            "Treinando Modelo PassiveAggressiveRegressor\n",
            "R2 Score Train: 0.4222860925648858\n",
            "R2 Score Valid: -1.97 +- 2.46\n",
            "R2 Score Test: 0.6054602147500643\n",
            "================================================================================\n",
            "Treinando Modelo RANSACRegressor\n"
          ],
          "name": "stdout"
        },
        {
          "output_type": "stream",
          "text": [
            "/usr/local/lib/python3.6/dist-packages/sklearn/cross_decomposition/_pls.py:321: UserWarning: Y residual constant at iteration 1\n",
            "  warnings.warn('Y residual constant at iteration %s' % k)\n",
            "/usr/local/lib/python3.6/dist-packages/sklearn/cross_decomposition/_pls.py:321: UserWarning: Y residual constant at iteration 1\n",
            "  warnings.warn('Y residual constant at iteration %s' % k)\n",
            "/usr/local/lib/python3.6/dist-packages/sklearn/cross_decomposition/_pls.py:321: UserWarning: Y residual constant at iteration 1\n",
            "  warnings.warn('Y residual constant at iteration %s' % k)\n",
            "/usr/local/lib/python3.6/dist-packages/sklearn/cross_decomposition/_pls.py:321: UserWarning: Y residual constant at iteration 1\n",
            "  warnings.warn('Y residual constant at iteration %s' % k)\n",
            "/usr/local/lib/python3.6/dist-packages/sklearn/cross_decomposition/_pls.py:321: UserWarning: Y residual constant at iteration 1\n",
            "  warnings.warn('Y residual constant at iteration %s' % k)\n",
            "/usr/local/lib/python3.6/dist-packages/sklearn/cross_decomposition/_pls.py:321: UserWarning: Y residual constant at iteration 1\n",
            "  warnings.warn('Y residual constant at iteration %s' % k)\n"
          ],
          "name": "stderr"
        },
        {
          "output_type": "stream",
          "text": [
            "R2 Score Train: 0.3597143335070392\n",
            "R2 Score Valid: 0.29 +- 0.09\n",
            "R2 Score Test: 0.4624377577712254\n",
            "================================================================================\n",
            "Treinando Modelo RandomForestRegressor\n",
            "R2 Score Train: 0.8496818993943368\n",
            "R2 Score Valid: 0.35 +- 0.13\n",
            "R2 Score Test: 0.4386031837637796\n",
            "================================================================================\n",
            "Treinando Modelo Ridge\n",
            "R2 Score Train: 0.4920516322835352\n",
            "R2 Score Valid: 0.46 +- 0.09\n",
            "R2 Score Test: 0.6328644605450089\n",
            "================================================================================\n",
            "Treinando Modelo RidgeCV\n",
            "R2 Score Train: 0.49188413265417735\n",
            "R2 Score Valid: 0.46 +- 0.09\n",
            "R2 Score Test: 0.6317473502556512\n",
            "================================================================================\n",
            "Treinando Modelo SGDRegressor\n",
            "R2 Score Train: -2.1706503854751236e+19\n",
            "R2 Score Valid: -3669985190844706304.00 +- 5265212059882023936.00\n",
            "R2 Score Test: -1.8744679420472234e+19\n",
            "================================================================================\n",
            "Treinando Modelo SVR\n",
            "R2 Score Train: -0.05041318871480094\n",
            "R2 Score Valid: -0.06 +- 0.02\n",
            "R2 Score Test: -0.07704036741649878\n",
            "================================================================================\n",
            "Treinando Modelo TheilSenRegressor\n",
            "R2 Score Train: 0.4709178371777769\n",
            "R2 Score Valid: 0.44 +- 0.10\n",
            "R2 Score Test: 0.6218263039435401\n",
            "================================================================================\n",
            "Treinando Modelo TransformedTargetRegressor\n",
            "R2 Score Train: 0.4920534981757311\n",
            "R2 Score Valid: 0.46 +- 0.09\n",
            "R2 Score Test: 0.6329788306128329\n",
            "================================================================================\n",
            "Treinando Modelo LGBMRegressor\n",
            "R2 Score Train: 0.6470079027503934\n",
            "R2 Score Valid: 0.42 +- 0.07\n",
            "R2 Score Test: 0.5528611579994934\n",
            "================================================================================\n",
            "Treinando Modelo XGBRegressor\n",
            "[21:28:49] WARNING: /workspace/src/objective/regression_obj.cu:152: reg:linear is now deprecated in favor of reg:squarederror.\n",
            "[21:28:49] WARNING: /workspace/src/objective/regression_obj.cu:152: reg:linear is now deprecated in favor of reg:squarederror.\n",
            "[21:28:49] WARNING: /workspace/src/objective/regression_obj.cu:152: reg:linear is now deprecated in favor of reg:squarederror.\n",
            "[21:28:49] WARNING: /workspace/src/objective/regression_obj.cu:152: reg:linear is now deprecated in favor of reg:squarederror.\n",
            "[21:28:49] WARNING: /workspace/src/objective/regression_obj.cu:152: reg:linear is now deprecated in favor of reg:squarederror.\n",
            "[21:28:49] WARNING: /workspace/src/objective/regression_obj.cu:152: reg:linear is now deprecated in favor of reg:squarederror.\n",
            "R2 Score Train: 0.7134827955049117\n",
            "R2 Score Valid: 0.41 +- 0.10\n",
            "R2 Score Test: 0.5451184805634111\n",
            "================================================================================\n"
          ],
          "name": "stdout"
        }
      ]
    },
    {
      "cell_type": "code",
      "metadata": {
        "id": "bbdGuVWkbxQ6",
        "colab": {
          "base_uri": "https://localhost:8080/",
          "height": 348
        },
        "outputId": "5edbb46e-5f41-4a1c-8db0-b2bef64e3090"
      },
      "source": [
        "relatorio = pd.DataFrame(relatorio).sort_values(by='cv_scores_mean', ascending=False)\n",
        "relatorio.head(10)"
      ],
      "execution_count": 20,
      "outputs": [
        {
          "output_type": "execute_result",
          "data": {
            "text/html": [
              "<div>\n",
              "<style scoped>\n",
              "    .dataframe tbody tr th:only-of-type {\n",
              "        vertical-align: middle;\n",
              "    }\n",
              "\n",
              "    .dataframe tbody tr th {\n",
              "        vertical-align: top;\n",
              "    }\n",
              "\n",
              "    .dataframe thead th {\n",
              "        text-align: right;\n",
              "    }\n",
              "</style>\n",
              "<table border=\"1\" class=\"dataframe\">\n",
              "  <thead>\n",
              "    <tr style=\"text-align: right;\">\n",
              "      <th></th>\n",
              "      <th>nome</th>\n",
              "      <th>train_score</th>\n",
              "      <th>cv_scores_mean</th>\n",
              "      <th>test_score</th>\n",
              "      <th>estimador</th>\n",
              "    </tr>\n",
              "  </thead>\n",
              "  <tbody>\n",
              "    <tr>\n",
              "      <th>35</th>\n",
              "      <td>RidgeCV</td>\n",
              "      <td>0.491884</td>\n",
              "      <td>0.457308</td>\n",
              "      <td>0.631747</td>\n",
              "      <td>RidgeCV(alphas=array([ 0.1,  1. , 10. ]), cv=N...</td>\n",
              "    </tr>\n",
              "    <tr>\n",
              "      <th>34</th>\n",
              "      <td>Ridge</td>\n",
              "      <td>0.492052</td>\n",
              "      <td>0.457278</td>\n",
              "      <td>0.632864</td>\n",
              "      <td>Ridge(alpha=1.0, copy_X=True, fit_intercept=Tr...</td>\n",
              "    </tr>\n",
              "    <tr>\n",
              "      <th>15</th>\n",
              "      <td>KernelRidge</td>\n",
              "      <td>0.491998</td>\n",
              "      <td>0.457272</td>\n",
              "      <td>0.634057</td>\n",
              "      <td>KernelRidge(alpha=1, coef0=1, degree=3, gamma=...</td>\n",
              "    </tr>\n",
              "    <tr>\n",
              "      <th>21</th>\n",
              "      <td>LassoLarsCV</td>\n",
              "      <td>0.492053</td>\n",
              "      <td>0.457242</td>\n",
              "      <td>0.632979</td>\n",
              "      <td>LassoLarsCV(copy_X=True, cv=None, eps=2.220446...</td>\n",
              "    </tr>\n",
              "    <tr>\n",
              "      <th>22</th>\n",
              "      <td>LassoLarsIC</td>\n",
              "      <td>0.492053</td>\n",
              "      <td>0.457242</td>\n",
              "      <td>0.632979</td>\n",
              "      <td>LassoLarsIC(copy_X=True, criterion='aic', eps=...</td>\n",
              "    </tr>\n",
              "    <tr>\n",
              "      <th>17</th>\n",
              "      <td>LarsCV</td>\n",
              "      <td>0.492053</td>\n",
              "      <td>0.457242</td>\n",
              "      <td>0.632979</td>\n",
              "      <td>LarsCV(copy_X=True, cv=None, eps=2.22044604925...</td>\n",
              "    </tr>\n",
              "    <tr>\n",
              "      <th>16</th>\n",
              "      <td>Lars</td>\n",
              "      <td>0.492053</td>\n",
              "      <td>0.457242</td>\n",
              "      <td>0.632979</td>\n",
              "      <td>Lars(copy_X=True, eps=2.220446049250313e-16, f...</td>\n",
              "    </tr>\n",
              "    <tr>\n",
              "      <th>39</th>\n",
              "      <td>TransformedTargetRegressor</td>\n",
              "      <td>0.492053</td>\n",
              "      <td>0.457242</td>\n",
              "      <td>0.632979</td>\n",
              "      <td>TransformedTargetRegressor(check_inverse=True,...</td>\n",
              "    </tr>\n",
              "    <tr>\n",
              "      <th>23</th>\n",
              "      <td>LinearRegression</td>\n",
              "      <td>0.492053</td>\n",
              "      <td>0.457242</td>\n",
              "      <td>0.632979</td>\n",
              "      <td>LinearRegression(copy_X=True, fit_intercept=Tr...</td>\n",
              "    </tr>\n",
              "    <tr>\n",
              "      <th>18</th>\n",
              "      <td>Lasso</td>\n",
              "      <td>0.492048</td>\n",
              "      <td>0.457221</td>\n",
              "      <td>0.632710</td>\n",
              "      <td>Lasso(alpha=1.0, copy_X=True, fit_intercept=Tr...</td>\n",
              "    </tr>\n",
              "  </tbody>\n",
              "</table>\n",
              "</div>"
            ],
            "text/plain": [
              "                          nome  ...                                          estimador\n",
              "35                     RidgeCV  ...  RidgeCV(alphas=array([ 0.1,  1. , 10. ]), cv=N...\n",
              "34                       Ridge  ...  Ridge(alpha=1.0, copy_X=True, fit_intercept=Tr...\n",
              "15                 KernelRidge  ...  KernelRidge(alpha=1, coef0=1, degree=3, gamma=...\n",
              "21                 LassoLarsCV  ...  LassoLarsCV(copy_X=True, cv=None, eps=2.220446...\n",
              "22                 LassoLarsIC  ...  LassoLarsIC(copy_X=True, criterion='aic', eps=...\n",
              "17                      LarsCV  ...  LarsCV(copy_X=True, cv=None, eps=2.22044604925...\n",
              "16                        Lars  ...  Lars(copy_X=True, eps=2.220446049250313e-16, f...\n",
              "39  TransformedTargetRegressor  ...  TransformedTargetRegressor(check_inverse=True,...\n",
              "23            LinearRegression  ...  LinearRegression(copy_X=True, fit_intercept=Tr...\n",
              "18                       Lasso  ...  Lasso(alpha=1.0, copy_X=True, fit_intercept=Tr...\n",
              "\n",
              "[10 rows x 5 columns]"
            ]
          },
          "metadata": {
            "tags": []
          },
          "execution_count": 20
        }
      ]
    },
    {
      "cell_type": "markdown",
      "metadata": {
        "id": "ooicjozH-CdH"
      },
      "source": [
        "### 3.4 TODO: Calibrar melhores estimadores usando GridSearchCV"
      ]
    },
    {
      "cell_type": "code",
      "metadata": {
        "id": "iH1s0ADL-cyS"
      },
      "source": [
        "## Usar GridSearchCV para calibrar os melhores estimadores"
      ],
      "execution_count": 21,
      "outputs": []
    },
    {
      "cell_type": "code",
      "metadata": {
        "id": "HFMXLNGH-2Xr"
      },
      "source": [
        ""
      ],
      "execution_count": 21,
      "outputs": []
    },
    {
      "cell_type": "markdown",
      "metadata": {
        "id": "KZqXRTdf-jx_"
      },
      "source": [
        "### 3.5 (Opcional) Combinar os melhores estimadores usando Stacking"
      ]
    },
    {
      "cell_type": "code",
      "metadata": {
        "id": "8qQQOpXIg-K9",
        "colab": {
          "base_uri": "https://localhost:8080/"
        },
        "outputId": "0ee95147-9e69-4f50-9482-698dadc94ea3"
      },
      "source": [
        "from sklearn.ensemble import StackingRegressor\n",
        "\n",
        "top_3_regs = relatorio[['nome', 'estimador']].values[:3]\n",
        "\n",
        "reg = StackingRegressor(\n",
        "    estimators=top_3_regs\n",
        ")\n",
        "\n",
        "reg.fit(X_train, y_train)\n",
        "\n",
        "train_score = reg.score(X_train, y_train)\n",
        "cv_scores = cross_val_score(reg, X_train, y_train)\n",
        "test_score = reg.score(X_test, y_test)\n",
        "\n",
        "print(f\"R2 Score Train: {train_score}\")\n",
        "print(f\"R2 Score Valid: {np.mean(cv_scores):.2f} +- {np.std(cv_scores):.2f}\")\n",
        "print(f\"R2 Score Test: {test_score}\")\n",
        "print('='*80)"
      ],
      "execution_count": 22,
      "outputs": [
        {
          "output_type": "stream",
          "text": [
            "R2 Score Train: 0.4919282169796338\n",
            "R2 Score Valid: 0.46 +- 0.09\n",
            "R2 Score Test: 0.6324865723682604\n",
            "================================================================================\n"
          ],
          "name": "stdout"
        }
      ]
    },
    {
      "cell_type": "code",
      "metadata": {
        "id": "4z5V0-E5g-AC",
        "colab": {
          "base_uri": "https://localhost:8080/"
        },
        "outputId": "075f0b97-7414-49b8-c08f-b4cae1569ecc"
      },
      "source": [
        "reg"
      ],
      "execution_count": 23,
      "outputs": [
        {
          "output_type": "execute_result",
          "data": {
            "text/plain": [
              "StackingRegressor(cv=None,\n",
              "                  estimators=array([['RidgeCV',\n",
              "        RidgeCV(alphas=array([ 0.1,  1. , 10. ]), cv=None, fit_intercept=True,\n",
              "        gcv_mode=None, normalize=False, scoring=None, store_cv_values=False)],\n",
              "       ['Ridge',\n",
              "        Ridge(alpha=1.0, copy_X=True, fit_intercept=True, max_iter=None,\n",
              "      normalize=False, random_state=None, solver='auto', tol=0.001)],\n",
              "       ['KernelRidge',\n",
              "        KernelRidge(alpha=1, coef0=1, degree=3, gamma=None, kernel='linear',\n",
              "            kernel_params=None)]], dtype=object),\n",
              "                  final_estimator=None, n_jobs=None, passthrough=False,\n",
              "                  verbose=0)"
            ]
          },
          "metadata": {
            "tags": []
          },
          "execution_count": 23
        }
      ]
    },
    {
      "cell_type": "markdown",
      "metadata": {
        "id": "zaXL6sBB1-qi"
      },
      "source": [
        "## 4. Exportar Modelo"
      ]
    },
    {
      "cell_type": "code",
      "metadata": {
        "id": "fnT9KWf52Cs0"
      },
      "source": [
        "import pickle\n",
        "pickle.dump(reg, open('regressor.pkl', 'wb'), protocol=4)"
      ],
      "execution_count": 31,
      "outputs": []
    },
    {
      "cell_type": "code",
      "metadata": {
        "id": "C53m18HT2DWi",
        "colab": {
          "base_uri": "https://localhost:8080/"
        },
        "outputId": "f431be2e-a574-4371-b1f4-79a0b21dc773"
      },
      "source": [
        "ls"
      ],
      "execution_count": 25,
      "outputs": [
        {
          "output_type": "stream",
          "text": [
            "regressor.pkl  \u001b[0m\u001b[01;34msample_data\u001b[0m/\n"
          ],
          "name": "stdout"
        }
      ]
    },
    {
      "cell_type": "code",
      "metadata": {
        "id": "p-cz2E-n2DQV"
      },
      "source": [
        "%reset -f"
      ],
      "execution_count": 26,
      "outputs": []
    },
    {
      "cell_type": "code",
      "metadata": {
        "id": "6GsRAjofm_mr"
      },
      "source": [
        "import pickle\n",
        "reg = pickle.load(open('regressor.pkl', 'rb'))"
      ],
      "execution_count": 32,
      "outputs": []
    },
    {
      "cell_type": "code",
      "metadata": {
        "id": "OZdeE_j6nCbG",
        "colab": {
          "base_uri": "https://localhost:8080/"
        },
        "outputId": "4253adf9-3a49-4ee6-903d-6949b1a6b05f"
      },
      "source": [
        "reg"
      ],
      "execution_count": 33,
      "outputs": [
        {
          "output_type": "execute_result",
          "data": {
            "text/plain": [
              "StackingRegressor(cv=None,\n",
              "                  estimators=array([['RidgeCV',\n",
              "        RidgeCV(alphas=array([ 0.1,  1. , 10. ]), cv=None, fit_intercept=True,\n",
              "        gcv_mode=None, normalize=False, scoring=None, store_cv_values=False)],\n",
              "       ['Ridge',\n",
              "        Ridge(alpha=1.0, copy_X=True, fit_intercept=True, max_iter=None,\n",
              "      normalize=False, random_state=None, solver='auto', tol=0.001)],\n",
              "       ['KernelRidge',\n",
              "        KernelRidge(alpha=1, coef0=1, degree=3, gamma=None, kernel='linear',\n",
              "            kernel_params=None)]], dtype=object),\n",
              "                  final_estimator=None, n_jobs=None, passthrough=False,\n",
              "                  verbose=0)"
            ]
          },
          "metadata": {
            "tags": []
          },
          "execution_count": 33
        }
      ]
    },
    {
      "cell_type": "code",
      "metadata": {
        "id": "vOa_1jPXnKPp",
        "colab": {
          "base_uri": "https://localhost:8080/"
        },
        "outputId": "024cb124-3b20-420f-ce5e-50d5893b193f"
      },
      "source": [
        "import numpy as np\n",
        "np.expm1(reg.predict([[0, 0, 0, 1, np.log1p(2), np.log1p(120)]]))"
      ],
      "execution_count": 34,
      "outputs": [
        {
          "output_type": "stream",
          "text": [
            "/usr/local/lib/python3.6/dist-packages/ipykernel_launcher.py:2: RuntimeWarning: overflow encountered in expm1\n",
            "  \n"
          ],
          "name": "stderr"
        },
        {
          "output_type": "execute_result",
          "data": {
            "text/plain": [
              "array([inf])"
            ]
          },
          "metadata": {
            "tags": []
          },
          "execution_count": 34
        }
      ]
    },
    {
      "cell_type": "code",
      "metadata": {
        "id": "6hlYG6snscR7"
      },
      "source": [
        ""
      ],
      "execution_count": null,
      "outputs": []
    }
  ]
}