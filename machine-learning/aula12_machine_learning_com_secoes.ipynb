{
  "nbformat": 4,
  "nbformat_minor": 0,
  "metadata": {
    "colab": {
      "name": "aula12_machine_learning_com_secoes.ipynb",
      "provenance": [],
      "collapsed_sections": []
    },
    "kernelspec": {
      "name": "python3",
      "display_name": "Python 3"
    }
  },
  "cells": [
    {
      "cell_type": "markdown",
      "metadata": {
        "id": "l9OVQuvRk7X2"
      },
      "source": [
        "# Importando os dados coletados"
      ]
    },
    {
      "cell_type": "code",
      "metadata": {
        "id": "Rx30j3fbC_Ic"
      },
      "source": [
        "url = 'https://raw.githubusercontent.com/cassiasamp/calculadora-de-imoveis-out-20/main/coleta-de-dados/dados_tratados_mercado_livre.csv'"
      ],
      "execution_count": null,
      "outputs": []
    },
    {
      "cell_type": "code",
      "metadata": {
        "id": "bPaejHMIDTZo"
      },
      "source": [
        "import pandas as pd"
      ],
      "execution_count": null,
      "outputs": []
    },
    {
      "cell_type": "code",
      "metadata": {
        "id": "Uqw8QvR-DVlY"
      },
      "source": [
        "df = pd.read_csv(url)"
      ],
      "execution_count": null,
      "outputs": []
    },
    {
      "cell_type": "code",
      "metadata": {
        "colab": {
          "base_uri": "https://localhost:8080/",
          "height": 198
        },
        "id": "j1icAnljD4S3",
        "outputId": "8682e585-8992-447d-d0fa-38783c197dcb"
      },
      "source": [
        "df.head()"
      ],
      "execution_count": null,
      "outputs": [
        {
          "output_type": "execute_result",
          "data": {
            "text/html": [
              "<div>\n",
              "<style scoped>\n",
              "    .dataframe tbody tr th:only-of-type {\n",
              "        vertical-align: middle;\n",
              "    }\n",
              "\n",
              "    .dataframe tbody tr th {\n",
              "        vertical-align: top;\n",
              "    }\n",
              "\n",
              "    .dataframe thead th {\n",
              "        text-align: right;\n",
              "    }\n",
              "</style>\n",
              "<table border=\"1\" class=\"dataframe\">\n",
              "  <thead>\n",
              "    <tr style=\"text-align: right;\">\n",
              "      <th></th>\n",
              "      <th>zonas</th>\n",
              "      <th>enderecos</th>\n",
              "      <th>precos</th>\n",
              "      <th>areas</th>\n",
              "      <th>quartos</th>\n",
              "    </tr>\n",
              "  </thead>\n",
              "  <tbody>\n",
              "    <tr>\n",
              "      <th>0</th>\n",
              "      <td>sul</td>\n",
              "      <td>Rua Doutor Ferreira Lopes, Vila Sofia, São Pau...</td>\n",
              "      <td>1100.0</td>\n",
              "      <td>90.0</td>\n",
              "      <td>3.0</td>\n",
              "    </tr>\n",
              "    <tr>\n",
              "      <th>1</th>\n",
              "      <td>sul</td>\n",
              "      <td>Avenida Dos Ourives, Jardim São Savério, São P...</td>\n",
              "      <td>1000.0</td>\n",
              "      <td>63.0</td>\n",
              "      <td>3.0</td>\n",
              "    </tr>\n",
              "    <tr>\n",
              "      <th>2</th>\n",
              "      <td>sul</td>\n",
              "      <td>Rua Doutor Nicolau Alberto Defina, Jardim Da S...</td>\n",
              "      <td>1224.0</td>\n",
              "      <td>68.0</td>\n",
              "      <td>2.0</td>\n",
              "    </tr>\n",
              "    <tr>\n",
              "      <th>3</th>\n",
              "      <td>sul</td>\n",
              "      <td>Avenida Carlos Liviero, Vila Liviero, São Paul...</td>\n",
              "      <td>1300.0</td>\n",
              "      <td>48.0</td>\n",
              "      <td>2.0</td>\n",
              "    </tr>\n",
              "    <tr>\n",
              "      <th>4</th>\n",
              "      <td>sul</td>\n",
              "      <td>Rua Armando Ramos Filho, Moinho Velho, São Pau...</td>\n",
              "      <td>830.0</td>\n",
              "      <td>40.0</td>\n",
              "      <td>1.0</td>\n",
              "    </tr>\n",
              "  </tbody>\n",
              "</table>\n",
              "</div>"
            ],
            "text/plain": [
              "  zonas                                          enderecos  ...  areas  quartos\n",
              "0   sul  Rua Doutor Ferreira Lopes, Vila Sofia, São Pau...  ...   90.0      3.0\n",
              "1   sul  Avenida Dos Ourives, Jardim São Savério, São P...  ...   63.0      3.0\n",
              "2   sul  Rua Doutor Nicolau Alberto Defina, Jardim Da S...  ...   68.0      2.0\n",
              "3   sul  Avenida Carlos Liviero, Vila Liviero, São Paul...  ...   48.0      2.0\n",
              "4   sul  Rua Armando Ramos Filho, Moinho Velho, São Pau...  ...   40.0      1.0\n",
              "\n",
              "[5 rows x 5 columns]"
            ]
          },
          "metadata": {
            "tags": []
          },
          "execution_count": 4
        }
      ]
    },
    {
      "cell_type": "code",
      "metadata": {
        "colab": {
          "base_uri": "https://localhost:8080/"
        },
        "id": "zIj6Of4uD79q",
        "outputId": "bf1af054-04ad-455f-af1c-e29cba8a5a93"
      },
      "source": [
        "df.info()"
      ],
      "execution_count": null,
      "outputs": [
        {
          "output_type": "stream",
          "text": [
            "<class 'pandas.core.frame.DataFrame'>\n",
            "RangeIndex: 960 entries, 0 to 959\n",
            "Data columns (total 5 columns):\n",
            " #   Column     Non-Null Count  Dtype  \n",
            "---  ------     --------------  -----  \n",
            " 0   zonas      960 non-null    object \n",
            " 1   enderecos  960 non-null    object \n",
            " 2   precos     960 non-null    float64\n",
            " 3   areas      960 non-null    float64\n",
            " 4   quartos    958 non-null    float64\n",
            "dtypes: float64(3), object(2)\n",
            "memory usage: 37.6+ KB\n"
          ],
          "name": "stdout"
        }
      ]
    },
    {
      "cell_type": "code",
      "metadata": {
        "colab": {
          "base_uri": "https://localhost:8080/"
        },
        "id": "2cPISsZID_xP",
        "outputId": "a4860a87-4742-4962-970f-4541e0476754"
      },
      "source": [
        "df.isnull().sum()"
      ],
      "execution_count": null,
      "outputs": [
        {
          "output_type": "execute_result",
          "data": {
            "text/plain": [
              "zonas        0\n",
              "enderecos    0\n",
              "precos       0\n",
              "areas        0\n",
              "quartos      2\n",
              "dtype: int64"
            ]
          },
          "metadata": {
            "tags": []
          },
          "execution_count": 6
        }
      ]
    },
    {
      "cell_type": "code",
      "metadata": {
        "colab": {
          "base_uri": "https://localhost:8080/"
        },
        "id": "KX_P7w5GFxbl",
        "outputId": "840d7482-b839-4d50-8b88-4700ed56a928"
      },
      "source": [
        "df.isna().sum()"
      ],
      "execution_count": null,
      "outputs": [
        {
          "output_type": "execute_result",
          "data": {
            "text/plain": [
              "zonas        0\n",
              "enderecos    0\n",
              "precos       0\n",
              "areas        0\n",
              "quartos      2\n",
              "dtype: int64"
            ]
          },
          "metadata": {
            "tags": []
          },
          "execution_count": 7
        }
      ]
    },
    {
      "cell_type": "code",
      "metadata": {
        "colab": {
          "base_uri": "https://localhost:8080/"
        },
        "id": "dIe1uHLxFfGb",
        "outputId": "95f0d89f-fbc0-4db4-a20b-a1189234cf0b"
      },
      "source": [
        "df.shape"
      ],
      "execution_count": null,
      "outputs": [
        {
          "output_type": "execute_result",
          "data": {
            "text/plain": [
              "(960, 5)"
            ]
          },
          "metadata": {
            "tags": []
          },
          "execution_count": 8
        }
      ]
    },
    {
      "cell_type": "code",
      "metadata": {
        "id": "1XTsHa4BFB7Q"
      },
      "source": [
        "df = df.fillna(df.median()) "
      ],
      "execution_count": null,
      "outputs": []
    },
    {
      "cell_type": "code",
      "metadata": {
        "colab": {
          "base_uri": "https://localhost:8080/"
        },
        "id": "F1X22L1HGFOj",
        "outputId": "e1467564-a4b5-49c7-a4a1-893721143984"
      },
      "source": [
        "df.info()"
      ],
      "execution_count": null,
      "outputs": [
        {
          "output_type": "stream",
          "text": [
            "<class 'pandas.core.frame.DataFrame'>\n",
            "RangeIndex: 960 entries, 0 to 959\n",
            "Data columns (total 5 columns):\n",
            " #   Column     Non-Null Count  Dtype  \n",
            "---  ------     --------------  -----  \n",
            " 0   zonas      960 non-null    object \n",
            " 1   enderecos  960 non-null    object \n",
            " 2   precos     960 non-null    float64\n",
            " 3   areas      960 non-null    float64\n",
            " 4   quartos    960 non-null    float64\n",
            "dtypes: float64(3), object(2)\n",
            "memory usage: 37.6+ KB\n"
          ],
          "name": "stdout"
        }
      ]
    },
    {
      "cell_type": "markdown",
      "metadata": {
        "id": "0jDvA1BqlFgo"
      },
      "source": [
        "# Exlporando em aula como faríamos para prever dados da OLX usando os dados que coletamos do Mercado Livre"
      ]
    },
    {
      "cell_type": "markdown",
      "metadata": {
        "id": "2cV7vXJXE3ec"
      },
      "source": [
        "Apartamentos da OLX que vamos prever:\n",
        "\n",
        "- Tatuapé, Zona Leste, 3 quartos, 85m2 \n",
        "    - vamos chutar 4.100, 1320.0 \n",
        "    - preco real: 2.500\n",
        "- Jardins, Zona Oeste, 1 quarto, 63m2\n",
        "\n",
        "Idéias para prever os preços da OLX:\n",
        "\n",
        "- Agrupar pela zona e ver o preço"
      ]
    },
    {
      "cell_type": "markdown",
      "metadata": {
        "id": "el7Dw76zKY8O"
      },
      "source": [
        "### tentando prever o preço por \"identidade\" vendo se é idêntico ou não - dados de apês que estão próximos\n",
        "- mesma zona, mesmo valor, mesma área"
      ]
    },
    {
      "cell_type": "code",
      "metadata": {
        "colab": {
          "base_uri": "https://localhost:8080/",
          "height": 78
        },
        "id": "pbMZk3dtE2RL",
        "outputId": "e3fd514e-d650-43ab-fb04-10d9ec6e24b5"
      },
      "source": [
        "# fizemos um primeiro filtro e temos um chute de 5000 reais\n",
        "df.query('zonas == \"leste\" and quartos == 3.0 and areas == 85')"
      ],
      "execution_count": null,
      "outputs": [
        {
          "output_type": "execute_result",
          "data": {
            "text/html": [
              "<div>\n",
              "<style scoped>\n",
              "    .dataframe tbody tr th:only-of-type {\n",
              "        vertical-align: middle;\n",
              "    }\n",
              "\n",
              "    .dataframe tbody tr th {\n",
              "        vertical-align: top;\n",
              "    }\n",
              "\n",
              "    .dataframe thead th {\n",
              "        text-align: right;\n",
              "    }\n",
              "</style>\n",
              "<table border=\"1\" class=\"dataframe\">\n",
              "  <thead>\n",
              "    <tr style=\"text-align: right;\">\n",
              "      <th></th>\n",
              "      <th>zonas</th>\n",
              "      <th>enderecos</th>\n",
              "      <th>precos</th>\n",
              "      <th>areas</th>\n",
              "      <th>quartos</th>\n",
              "    </tr>\n",
              "  </thead>\n",
              "  <tbody>\n",
              "    <tr>\n",
              "      <th>661</th>\n",
              "      <td>leste</td>\n",
              "      <td>Rua João Antônio De Oliveira, Moóca, São Paulo...</td>\n",
              "      <td>5000.0</td>\n",
              "      <td>85.0</td>\n",
              "      <td>3.0</td>\n",
              "    </tr>\n",
              "  </tbody>\n",
              "</table>\n",
              "</div>"
            ],
            "text/plain": [
              "     zonas                                          enderecos  ...  areas  quartos\n",
              "661  leste  Rua João Antônio De Oliveira, Moóca, São Paulo...  ...   85.0      3.0\n",
              "\n",
              "[1 rows x 5 columns]"
            ]
          },
          "metadata": {
            "tags": []
          },
          "execution_count": 11
        }
      ]
    },
    {
      "cell_type": "code",
      "metadata": {
        "colab": {
          "base_uri": "https://localhost:8080/"
        },
        "id": "ZlUFhLEsEI_2",
        "outputId": "922bf3e5-2d6c-4891-8130-96bd823d9ac6"
      },
      "source": [
        "df.query('zonas == \"leste\" and areas == 85').mean()"
      ],
      "execution_count": null,
      "outputs": [
        {
          "output_type": "execute_result",
          "data": {
            "text/plain": [
              "precos     4100.0\n",
              "areas        85.0\n",
              "quartos       2.5\n",
              "dtype: float64"
            ]
          },
          "metadata": {
            "tags": []
          },
          "execution_count": 12
        }
      ]
    },
    {
      "cell_type": "markdown",
      "metadata": {
        "id": "JB2VO4dGK5PI"
      },
      "source": [
        "### prevendo por semelhança\n",
        "\n",
        "- vendo se é parecido com valores de apês com dados próximos"
      ]
    },
    {
      "cell_type": "code",
      "metadata": {
        "colab": {
          "base_uri": "https://localhost:8080/"
        },
        "id": "OFEszY9fK4ut",
        "outputId": "be188305-2936-4ff0-e632-1f3afe499ddb"
      },
      "source": [
        "df.query('zonas == \"leste\" and areas <= 85').median()"
      ],
      "execution_count": null,
      "outputs": [
        {
          "output_type": "execute_result",
          "data": {
            "text/plain": [
              "precos     1320.0\n",
              "areas        50.0\n",
              "quartos       2.0\n",
              "dtype: float64"
            ]
          },
          "metadata": {
            "tags": []
          },
          "execution_count": 13
        }
      ]
    },
    {
      "cell_type": "markdown",
      "metadata": {
        "id": "Lmi1FACWJiLb"
      },
      "source": [
        "### gráfico de linha de tendência \n",
        "\n",
        "fórmula da reta para uma variável ou característica: $y = ax + b$\n",
        "- ou $y = a * quartos + b$\n",
        "\n",
        "- a = pesos (w) ou coeficientes que alteram a angulação da reta\n",
        "- b = interceptava o eixo y\n",
        "\n",
        "fórmula da reta para mais de uma variável: $y = a_0x + a_1z + a_2v + b$\n",
        "- ou $y = a_0 * quartos  + a_1 * áreas + a_2 * zonas + ... + b$\n"
      ]
    },
    {
      "cell_type": "code",
      "metadata": {
        "colab": {
          "base_uri": "https://localhost:8080/",
          "height": 138
        },
        "id": "ox9lP7NzPSPb",
        "outputId": "be88f461-fa36-4f66-a785-3634841fd835"
      },
      "source": [
        "df.head(3)"
      ],
      "execution_count": null,
      "outputs": [
        {
          "output_type": "execute_result",
          "data": {
            "text/html": [
              "<div>\n",
              "<style scoped>\n",
              "    .dataframe tbody tr th:only-of-type {\n",
              "        vertical-align: middle;\n",
              "    }\n",
              "\n",
              "    .dataframe tbody tr th {\n",
              "        vertical-align: top;\n",
              "    }\n",
              "\n",
              "    .dataframe thead th {\n",
              "        text-align: right;\n",
              "    }\n",
              "</style>\n",
              "<table border=\"1\" class=\"dataframe\">\n",
              "  <thead>\n",
              "    <tr style=\"text-align: right;\">\n",
              "      <th></th>\n",
              "      <th>zonas</th>\n",
              "      <th>enderecos</th>\n",
              "      <th>precos</th>\n",
              "      <th>areas</th>\n",
              "      <th>quartos</th>\n",
              "    </tr>\n",
              "  </thead>\n",
              "  <tbody>\n",
              "    <tr>\n",
              "      <th>0</th>\n",
              "      <td>sul</td>\n",
              "      <td>Rua Doutor Ferreira Lopes, Vila Sofia, São Pau...</td>\n",
              "      <td>1100.0</td>\n",
              "      <td>90.0</td>\n",
              "      <td>3.0</td>\n",
              "    </tr>\n",
              "    <tr>\n",
              "      <th>1</th>\n",
              "      <td>sul</td>\n",
              "      <td>Avenida Dos Ourives, Jardim São Savério, São P...</td>\n",
              "      <td>1000.0</td>\n",
              "      <td>63.0</td>\n",
              "      <td>3.0</td>\n",
              "    </tr>\n",
              "    <tr>\n",
              "      <th>2</th>\n",
              "      <td>sul</td>\n",
              "      <td>Rua Doutor Nicolau Alberto Defina, Jardim Da S...</td>\n",
              "      <td>1224.0</td>\n",
              "      <td>68.0</td>\n",
              "      <td>2.0</td>\n",
              "    </tr>\n",
              "  </tbody>\n",
              "</table>\n",
              "</div>"
            ],
            "text/plain": [
              "  zonas                                          enderecos  ...  areas  quartos\n",
              "0   sul  Rua Doutor Ferreira Lopes, Vila Sofia, São Pau...  ...   90.0      3.0\n",
              "1   sul  Avenida Dos Ourives, Jardim São Savério, São P...  ...   63.0      3.0\n",
              "2   sul  Rua Doutor Nicolau Alberto Defina, Jardim Da S...  ...   68.0      2.0\n",
              "\n",
              "[3 rows x 5 columns]"
            ]
          },
          "metadata": {
            "tags": []
          },
          "execution_count": 14
        }
      ]
    },
    {
      "cell_type": "code",
      "metadata": {
        "id": "_Bo8OU1_PYqV"
      },
      "source": [
        " # X = zonas, areas, quartos\n",
        " # y = precos"
      ],
      "execution_count": null,
      "outputs": []
    },
    {
      "cell_type": "code",
      "metadata": {
        "id": "gZq1RyASP9sk"
      },
      "source": [
        "X = df.drop(columns=['enderecos', 'precos'])\n",
        "# df.drop(['enderecos', 'precos'], axis=1)"
      ],
      "execution_count": null,
      "outputs": []
    },
    {
      "cell_type": "code",
      "metadata": {
        "colab": {
          "base_uri": "https://localhost:8080/",
          "height": 198
        },
        "id": "CArz6rVKQadd",
        "outputId": "a9d8f2a0-f57a-45fb-dc47-9bba1507ac6f"
      },
      "source": [
        "X.head()"
      ],
      "execution_count": null,
      "outputs": [
        {
          "output_type": "execute_result",
          "data": {
            "text/html": [
              "<div>\n",
              "<style scoped>\n",
              "    .dataframe tbody tr th:only-of-type {\n",
              "        vertical-align: middle;\n",
              "    }\n",
              "\n",
              "    .dataframe tbody tr th {\n",
              "        vertical-align: top;\n",
              "    }\n",
              "\n",
              "    .dataframe thead th {\n",
              "        text-align: right;\n",
              "    }\n",
              "</style>\n",
              "<table border=\"1\" class=\"dataframe\">\n",
              "  <thead>\n",
              "    <tr style=\"text-align: right;\">\n",
              "      <th></th>\n",
              "      <th>zonas</th>\n",
              "      <th>areas</th>\n",
              "      <th>quartos</th>\n",
              "    </tr>\n",
              "  </thead>\n",
              "  <tbody>\n",
              "    <tr>\n",
              "      <th>0</th>\n",
              "      <td>sul</td>\n",
              "      <td>90.0</td>\n",
              "      <td>3.0</td>\n",
              "    </tr>\n",
              "    <tr>\n",
              "      <th>1</th>\n",
              "      <td>sul</td>\n",
              "      <td>63.0</td>\n",
              "      <td>3.0</td>\n",
              "    </tr>\n",
              "    <tr>\n",
              "      <th>2</th>\n",
              "      <td>sul</td>\n",
              "      <td>68.0</td>\n",
              "      <td>2.0</td>\n",
              "    </tr>\n",
              "    <tr>\n",
              "      <th>3</th>\n",
              "      <td>sul</td>\n",
              "      <td>48.0</td>\n",
              "      <td>2.0</td>\n",
              "    </tr>\n",
              "    <tr>\n",
              "      <th>4</th>\n",
              "      <td>sul</td>\n",
              "      <td>40.0</td>\n",
              "      <td>1.0</td>\n",
              "    </tr>\n",
              "  </tbody>\n",
              "</table>\n",
              "</div>"
            ],
            "text/plain": [
              "  zonas  areas  quartos\n",
              "0   sul   90.0      3.0\n",
              "1   sul   63.0      3.0\n",
              "2   sul   68.0      2.0\n",
              "3   sul   48.0      2.0\n",
              "4   sul   40.0      1.0"
            ]
          },
          "metadata": {
            "tags": []
          },
          "execution_count": 17
        }
      ]
    },
    {
      "cell_type": "markdown",
      "metadata": {
        "id": "tATvCiciQd6U"
      },
      "source": [
        "### Como representar em números?\n",
        "\n",
        "- Zonas: sul, norte, leste, oeste\n",
        "  - sul: 1, norte: 2, leste: 3, oeste: 4 - representação (encoding)\n",
        "  - sul: 0001, norte: 0010, leste: 0100, oeste: 1000\n",
        "\n",
        "#### na equação: $a_0 * zona$ \n",
        "- $a_0$ = 5\n",
        "- $a_0 * zona_{sul}$ = 5 * 1 = 5\n",
        "- $a_0 * zona_{norte}$ = 5 * 2 = 10\n",
        "- $a_0 * zona_{leste}$ = 5 * 3 = 15\n",
        "- $a_0 * zona_{oeste}$ = 5 * 4 = 20\n",
        "\n",
        "#### podemos usar one-hot encoding\n",
        "- sul: 0001, norte: 0010, leste: 0100, oeste: 1000\n",
        "- para fazer a representação com zeros e uns que é o one hot encoding vamos usar o `pd.get_dummies` "
      ]
    },
    {
      "cell_type": "code",
      "metadata": {
        "id": "L0gWi12lS3cv"
      },
      "source": [
        "# transformamos as nossas variáveis categóricas em numéricas\n",
        "X = pd.get_dummies(X, columns=['zonas'])"
      ],
      "execution_count": null,
      "outputs": []
    },
    {
      "cell_type": "code",
      "metadata": {
        "colab": {
          "base_uri": "https://localhost:8080/",
          "height": 198
        },
        "id": "okKmgrIATkTR",
        "outputId": "131bbb80-8b8e-4a6a-ef2c-b507bed13064"
      },
      "source": [
        "# variável independente - o que vamos usar para prever\n",
        "X.head()"
      ],
      "execution_count": null,
      "outputs": [
        {
          "output_type": "execute_result",
          "data": {
            "text/html": [
              "<div>\n",
              "<style scoped>\n",
              "    .dataframe tbody tr th:only-of-type {\n",
              "        vertical-align: middle;\n",
              "    }\n",
              "\n",
              "    .dataframe tbody tr th {\n",
              "        vertical-align: top;\n",
              "    }\n",
              "\n",
              "    .dataframe thead th {\n",
              "        text-align: right;\n",
              "    }\n",
              "</style>\n",
              "<table border=\"1\" class=\"dataframe\">\n",
              "  <thead>\n",
              "    <tr style=\"text-align: right;\">\n",
              "      <th></th>\n",
              "      <th>areas</th>\n",
              "      <th>quartos</th>\n",
              "      <th>zonas_leste</th>\n",
              "      <th>zonas_norte</th>\n",
              "      <th>zonas_oeste</th>\n",
              "      <th>zonas_sul</th>\n",
              "    </tr>\n",
              "  </thead>\n",
              "  <tbody>\n",
              "    <tr>\n",
              "      <th>0</th>\n",
              "      <td>90.0</td>\n",
              "      <td>3.0</td>\n",
              "      <td>0</td>\n",
              "      <td>0</td>\n",
              "      <td>0</td>\n",
              "      <td>1</td>\n",
              "    </tr>\n",
              "    <tr>\n",
              "      <th>1</th>\n",
              "      <td>63.0</td>\n",
              "      <td>3.0</td>\n",
              "      <td>0</td>\n",
              "      <td>0</td>\n",
              "      <td>0</td>\n",
              "      <td>1</td>\n",
              "    </tr>\n",
              "    <tr>\n",
              "      <th>2</th>\n",
              "      <td>68.0</td>\n",
              "      <td>2.0</td>\n",
              "      <td>0</td>\n",
              "      <td>0</td>\n",
              "      <td>0</td>\n",
              "      <td>1</td>\n",
              "    </tr>\n",
              "    <tr>\n",
              "      <th>3</th>\n",
              "      <td>48.0</td>\n",
              "      <td>2.0</td>\n",
              "      <td>0</td>\n",
              "      <td>0</td>\n",
              "      <td>0</td>\n",
              "      <td>1</td>\n",
              "    </tr>\n",
              "    <tr>\n",
              "      <th>4</th>\n",
              "      <td>40.0</td>\n",
              "      <td>1.0</td>\n",
              "      <td>0</td>\n",
              "      <td>0</td>\n",
              "      <td>0</td>\n",
              "      <td>1</td>\n",
              "    </tr>\n",
              "  </tbody>\n",
              "</table>\n",
              "</div>"
            ],
            "text/plain": [
              "   areas  quartos  zonas_leste  zonas_norte  zonas_oeste  zonas_sul\n",
              "0   90.0      3.0            0            0            0          1\n",
              "1   63.0      3.0            0            0            0          1\n",
              "2   68.0      2.0            0            0            0          1\n",
              "3   48.0      2.0            0            0            0          1\n",
              "4   40.0      1.0            0            0            0          1"
            ]
          },
          "metadata": {
            "tags": []
          },
          "execution_count": 19
        }
      ]
    },
    {
      "cell_type": "code",
      "metadata": {
        "id": "OIlQBBJNPrL4"
      },
      "source": [
        "# variável dependente - o que vamos prever\n",
        "# y são os preços\n",
        "y = df['precos']"
      ],
      "execution_count": null,
      "outputs": []
    },
    {
      "cell_type": "code",
      "metadata": {
        "colab": {
          "base_uri": "https://localhost:8080/"
        },
        "id": "Y5BZ5GsuPs_e",
        "outputId": "967c404f-43a2-419b-aff2-f22b9ed8fabf"
      },
      "source": [
        "y"
      ],
      "execution_count": null,
      "outputs": [
        {
          "output_type": "execute_result",
          "data": {
            "text/plain": [
              "0      1100.0\n",
              "1      1000.0\n",
              "2      1224.0\n",
              "3      1300.0\n",
              "4       830.0\n",
              "        ...  \n",
              "955    1900.0\n",
              "956    1960.0\n",
              "957    1360.0\n",
              "958    2120.0\n",
              "959    1550.0\n",
              "Name: precos, Length: 960, dtype: float64"
            ]
          },
          "metadata": {
            "tags": []
          },
          "execution_count": 22
        }
      ]
    },
    {
      "cell_type": "code",
      "metadata": {
        "colab": {
          "base_uri": "https://localhost:8080/"
        },
        "id": "nb-7LzBac7V2",
        "outputId": "b4b37285-7e41-49fa-cf62-dd3a2e0b1ef4"
      },
      "source": [
        "X.shape"
      ],
      "execution_count": null,
      "outputs": [
        {
          "output_type": "execute_result",
          "data": {
            "text/plain": [
              "(960, 6)"
            ]
          },
          "metadata": {
            "tags": []
          },
          "execution_count": 23
        }
      ]
    },
    {
      "cell_type": "code",
      "metadata": {
        "id": "MmSsvBhEI61Y"
      },
      "source": [
        "# usar a regressão linear\n",
        "# usaremos o scikit learn\n",
        "from sklearn.linear_model import LinearRegression"
      ],
      "execution_count": null,
      "outputs": []
    },
    {
      "cell_type": "code",
      "metadata": {
        "id": "aOgVxs1xPyo7"
      },
      "source": [
        "# ininializando/ criando o modelo\n",
        "lr = LinearRegression()"
      ],
      "execution_count": null,
      "outputs": []
    },
    {
      "cell_type": "code",
      "metadata": {
        "colab": {
          "base_uri": "https://localhost:8080/"
        },
        "id": "NEs_T1ICXna9",
        "outputId": "0a1eab29-3050-4ea5-bc69-dcf2b68502ea"
      },
      "source": [
        "# ajustando a linha aos pontos - ajustat em inglês é fit\n",
        "lr.fit(X, y)"
      ],
      "execution_count": null,
      "outputs": [
        {
          "output_type": "execute_result",
          "data": {
            "text/plain": [
              "LinearRegression(copy_X=True, fit_intercept=True, n_jobs=None, normalize=False)"
            ]
          },
          "metadata": {
            "tags": []
          },
          "execution_count": 26
        }
      ]
    },
    {
      "cell_type": "code",
      "metadata": {
        "id": "pBW75AZ_XoQ0"
      },
      "source": [
        "# queremos chutar um preço para -> Zona Leste, 3 quartos, 85m2\n",
        "# o chutar chama predizer - vamos usar o predict\n",
        "# predizendo para apenas um dado\n",
        "# areas\tquartos\tzonas_leste\tzonas_norte\tzonas_oeste\tzonas_sul"
      ],
      "execution_count": null,
      "outputs": []
    },
    {
      "cell_type": "code",
      "metadata": {
        "colab": {
          "base_uri": "https://localhost:8080/"
        },
        "id": "eigmRif6YqiU",
        "outputId": "125643e9-1784-4957-c67f-e797be038993"
      },
      "source": [
        "X.iloc[0].values"
      ],
      "execution_count": null,
      "outputs": [
        {
          "output_type": "execute_result",
          "data": {
            "text/plain": [
              "array([90.,  3.,  0.,  0.,  0.,  1.])"
            ]
          },
          "metadata": {
            "tags": []
          },
          "execution_count": 28
        }
      ]
    },
    {
      "cell_type": "code",
      "metadata": {
        "colab": {
          "base_uri": "https://localhost:8080/"
        },
        "id": "0BE6NVCiaeIS",
        "outputId": "32ffa5f1-b200-4683-fcc2-021f095b17cb"
      },
      "source": [
        "import numpy as np\n",
        "arr = np.array([85, 3, 1, 0, 0, 0])\n",
        "arr.reshape(1, -1)"
      ],
      "execution_count": null,
      "outputs": [
        {
          "output_type": "execute_result",
          "data": {
            "text/plain": [
              "array([[85,  3,  1,  0,  0,  0]])"
            ]
          },
          "metadata": {
            "tags": []
          },
          "execution_count": 29
        }
      ]
    },
    {
      "cell_type": "code",
      "metadata": {
        "colab": {
          "base_uri": "https://localhost:8080/"
        },
        "id": "rjhIBJ_QZWew",
        "outputId": "05e317e1-f2fd-414c-b36e-ec89940792bc"
      },
      "source": [
        "# [85, 3, 1, 0, 0, 0]\n",
        "lr.predict([[85, 3, 1, 0, 0, 0]])\n",
        "# até que está bom para 2.500"
      ],
      "execution_count": null,
      "outputs": [
        {
          "output_type": "execute_result",
          "data": {
            "text/plain": [
              "array([2213.22434406])"
            ]
          },
          "metadata": {
            "tags": []
          },
          "execution_count": 30
        }
      ]
    },
    {
      "cell_type": "code",
      "metadata": {
        "colab": {
          "base_uri": "https://localhost:8080/"
        },
        "id": "uHl3e5TUarBz",
        "outputId": "52994712-5721-450d-98c8-d704107dc5dd"
      },
      "source": [
        "lr.intercept_ # nosso b"
      ],
      "execution_count": null,
      "outputs": [
        {
          "output_type": "execute_result",
          "data": {
            "text/plain": [
              "862.2220066747057"
            ]
          },
          "metadata": {
            "tags": []
          },
          "execution_count": 31
        }
      ]
    },
    {
      "cell_type": "code",
      "metadata": {
        "colab": {
          "base_uri": "https://localhost:8080/"
        },
        "id": "PeEa4URga-XV",
        "outputId": "35b94713-303b-4038-b363-fec0b631602c"
      },
      "source": [
        "# areas\tquartos\tzonas_leste\tzonas_norte\tzonas_oeste\tzonas_sul\n",
        "# nossos azinhos\n",
        "lr.coef_"
      ],
      "execution_count": null,
      "outputs": [
        {
          "output_type": "execute_result",
          "data": {
            "text/plain": [
              "array([  16.41684107,  144.97781656, -479.36260338, -422.73299583,\n",
              "        395.45306664,  506.64253257])"
            ]
          },
          "metadata": {
            "tags": []
          },
          "execution_count": 32
        }
      ]
    },
    {
      "cell_type": "markdown",
      "metadata": {
        "id": "injiVFn6b5VG"
      },
      "source": [
        "### TODO: próxima aula (terça-feira 02/02/2021)\n",
        "\n",
        "Fazer a separação dos dados entre treino e teste usando scikit-learn\n",
        "- train_test_split - como faz para ter sempre a mesma amostra split \n",
        "\n",
        "Brincar com os modelos que fazem predição do preço por:\n",
        "- indentidade: modelo de árvore (DecisionTreeRegressor)\n",
        "- semelhança: modelo de vizinhos mais próximos (K Kneighbors Regressor)"
      ]
    },
    {
      "cell_type": "markdown",
      "metadata": {
        "id": "wThAXO5MlQWm"
      },
      "source": [
        "# Plotando os dados de entrada (nosso x ou características) para entender o que acontece com a distribuição quando aplicamos o log"
      ]
    },
    {
      "cell_type": "code",
      "metadata": {
        "id": "7Kp9ebPMbGeH"
      },
      "source": [
        "import seaborn as sns\n",
        "import numpy as np"
      ],
      "execution_count": null,
      "outputs": []
    },
    {
      "cell_type": "code",
      "metadata": {
        "colab": {
          "base_uri": "https://localhost:8080/",
          "height": 568
        },
        "id": "cZj_1YKcWqDv",
        "outputId": "c02c33cd-289c-4b95-c28d-60198105e51f"
      },
      "source": [
        "sns.pairplot(df[['quartos', 'areas', 'precos']])"
      ],
      "execution_count": null,
      "outputs": [
        {
          "output_type": "execute_result",
          "data": {
            "text/plain": [
              "<seaborn.axisgrid.PairGrid at 0x7fc9abd24748>"
            ]
          },
          "metadata": {
            "tags": []
          },
          "execution_count": 44
        },
        {
          "output_type": "display_data",
          "data": {
            "image/png": "[encoded data removed]",
            "text/plain": [
              "<Figure size 540x540 with 12 Axes>"
            ]
          },
          "metadata": {
            "tags": [],
            "needs_background": "light"
          }
        }
      ]
    },
    {
      "cell_type": "code",
      "metadata": {
        "colab": {
          "base_uri": "https://localhost:8080/",
          "height": 568
        },
        "id": "E8dkLxmxWWqV",
        "outputId": "2a61e6b3-e79d-4a0d-ec2f-395241838865"
      },
      "source": [
        "sns.pairplot(df[['quartos', 'areas', 'precos']].apply(np.log1p))"
      ],
      "execution_count": null,
      "outputs": [
        {
          "output_type": "execute_result",
          "data": {
            "text/plain": [
              "<seaborn.axisgrid.PairGrid at 0x7fc9ab629550>"
            ]
          },
          "metadata": {
            "tags": []
          },
          "execution_count": 45
        },
        {
          "output_type": "display_data",
          "data": {
            "image/png": "[encoded data removed]",
            "text/plain": [
              "<Figure size 540x540 with 12 Axes>"
            ]
          },
          "metadata": {
            "tags": [],
            "needs_background": "light"
          }
        }
      ]
    },
    {
      "cell_type": "markdown",
      "metadata": {
        "id": "F6PP1f-1ldYY"
      },
      "source": [
        "# Dividindo os dados que coletamos entre treino e teste"
      ]
    },
    {
      "cell_type": "code",
      "metadata": {
        "id": "777nUKytWap4"
      },
      "source": [
        "from sklearn.model_selection import train_test_split"
      ],
      "execution_count": null,
      "outputs": []
    },
    {
      "cell_type": "code",
      "metadata": {
        "id": "BaQIN9gYXjKp"
      },
      "source": [
        "SEED = 42\n",
        "X_treino, X_teste, y_treino, y_teste = train_test_split(X, y, test_size=0.25, random_state=SEED)"
      ],
      "execution_count": null,
      "outputs": []
    },
    {
      "cell_type": "code",
      "metadata": {
        "colab": {
          "base_uri": "https://localhost:8080/",
          "height": 198
        },
        "id": "mFZzNDvmX0h4",
        "outputId": "7e07117e-ed4f-47c7-ee34-5f70c7926189"
      },
      "source": [
        "X_treino.head()"
      ],
      "execution_count": null,
      "outputs": [
        {
          "output_type": "execute_result",
          "data": {
            "text/html": [
              "<div>\n",
              "<style scoped>\n",
              "    .dataframe tbody tr th:only-of-type {\n",
              "        vertical-align: middle;\n",
              "    }\n",
              "\n",
              "    .dataframe tbody tr th {\n",
              "        vertical-align: top;\n",
              "    }\n",
              "\n",
              "    .dataframe thead th {\n",
              "        text-align: right;\n",
              "    }\n",
              "</style>\n",
              "<table border=\"1\" class=\"dataframe\">\n",
              "  <thead>\n",
              "    <tr style=\"text-align: right;\">\n",
              "      <th></th>\n",
              "      <th>areas</th>\n",
              "      <th>quartos</th>\n",
              "      <th>zonas_leste</th>\n",
              "      <th>zonas_norte</th>\n",
              "      <th>zonas_oeste</th>\n",
              "      <th>zonas_sul</th>\n",
              "    </tr>\n",
              "  </thead>\n",
              "  <tbody>\n",
              "    <tr>\n",
              "      <th>357</th>\n",
              "      <td>160.0</td>\n",
              "      <td>5.0</td>\n",
              "      <td>0</td>\n",
              "      <td>0</td>\n",
              "      <td>1</td>\n",
              "      <td>0</td>\n",
              "    </tr>\n",
              "    <tr>\n",
              "      <th>29</th>\n",
              "      <td>67.0</td>\n",
              "      <td>3.0</td>\n",
              "      <td>0</td>\n",
              "      <td>0</td>\n",
              "      <td>0</td>\n",
              "      <td>1</td>\n",
              "    </tr>\n",
              "    <tr>\n",
              "      <th>55</th>\n",
              "      <td>60.0</td>\n",
              "      <td>2.0</td>\n",
              "      <td>0</td>\n",
              "      <td>0</td>\n",
              "      <td>0</td>\n",
              "      <td>1</td>\n",
              "    </tr>\n",
              "    <tr>\n",
              "      <th>481</th>\n",
              "      <td>65.0</td>\n",
              "      <td>2.0</td>\n",
              "      <td>1</td>\n",
              "      <td>0</td>\n",
              "      <td>0</td>\n",
              "      <td>0</td>\n",
              "    </tr>\n",
              "    <tr>\n",
              "      <th>331</th>\n",
              "      <td>45.0</td>\n",
              "      <td>1.0</td>\n",
              "      <td>0</td>\n",
              "      <td>0</td>\n",
              "      <td>1</td>\n",
              "      <td>0</td>\n",
              "    </tr>\n",
              "  </tbody>\n",
              "</table>\n",
              "</div>"
            ],
            "text/plain": [
              "     areas  quartos  zonas_leste  zonas_norte  zonas_oeste  zonas_sul\n",
              "357  160.0      5.0            0            0            1          0\n",
              "29    67.0      3.0            0            0            0          1\n",
              "55    60.0      2.0            0            0            0          1\n",
              "481   65.0      2.0            1            0            0          0\n",
              "331   45.0      1.0            0            0            1          0"
            ]
          },
          "metadata": {
            "tags": []
          },
          "execution_count": 91
        }
      ]
    },
    {
      "cell_type": "markdown",
      "metadata": {
        "id": "m-1YEilumtVi"
      },
      "source": [
        "# Aplicando um modelo de regressão linear nos dados"
      ]
    },
    {
      "cell_type": "code",
      "metadata": {
        "id": "ae7etuQ4X23I"
      },
      "source": [
        "from sklearn.linear_model import LinearRegression"
      ],
      "execution_count": null,
      "outputs": []
    },
    {
      "cell_type": "code",
      "metadata": {
        "id": "izKaJUcDZfDJ"
      },
      "source": [
        "X_treino = X_treino.apply(np.log1p)"
      ],
      "execution_count": null,
      "outputs": []
    },
    {
      "cell_type": "code",
      "metadata": {
        "id": "wRXbpCXuZUas"
      },
      "source": [
        "y_treino = y_treino.apply(np.log1p)"
      ],
      "execution_count": null,
      "outputs": []
    },
    {
      "cell_type": "code",
      "metadata": {
        "id": "zfTYcxLIYMXH"
      },
      "source": [
        "lr = LinearRegression().fit(X_treino, y_treino)"
      ],
      "execution_count": null,
      "outputs": []
    },
    {
      "cell_type": "code",
      "metadata": {
        "id": "u69C5jDFY8BC"
      },
      "source": [
        "y_pred = lr.predict(X_treino)\n",
        "#y_pred = np.log1p(y_pred)\n",
        "y_pred_t = lr.predict(X_teste.apply(np.log1p))"
      ],
      "execution_count": null,
      "outputs": []
    },
    {
      "cell_type": "code",
      "metadata": {
        "colab": {
          "base_uri": "https://localhost:8080/"
        },
        "id": "rmIFu_6JYr-u",
        "outputId": "fa36cfde-4068-42f7-db60-48319317d2b1"
      },
      "source": [
        "from sklearn.metrics import r2_score\n",
        "\n",
        "r2_score(y_treino, y_pred)"
      ],
      "execution_count": null,
      "outputs": [
        {
          "output_type": "execute_result",
          "data": {
            "text/plain": [
              "0.5321237226321226"
            ]
          },
          "metadata": {
            "tags": []
          },
          "execution_count": 97
        }
      ]
    },
    {
      "cell_type": "code",
      "metadata": {
        "colab": {
          "base_uri": "https://localhost:8080/"
        },
        "id": "8fNJmE4oaLBh",
        "outputId": "b61372d0-6d6a-4fe5-c9fd-6262ccbd29fe"
      },
      "source": [
        "lr.score(X_treino, y_treino)"
      ],
      "execution_count": null,
      "outputs": [
        {
          "output_type": "execute_result",
          "data": {
            "text/plain": [
              "0.5321237226321226"
            ]
          },
          "metadata": {
            "tags": []
          },
          "execution_count": 99
        }
      ]
    },
    {
      "cell_type": "code",
      "metadata": {
        "colab": {
          "base_uri": "https://localhost:8080/"
        },
        "id": "EhuJB_4bYcrW",
        "outputId": "69e844f0-09bd-4f7c-9a17-e273eaf814b6"
      },
      "source": [
        "lr.score(X_teste.apply(np.log1p), y_teste.apply(np.log1p))"
      ],
      "execution_count": null,
      "outputs": [
        {
          "output_type": "execute_result",
          "data": {
            "text/plain": [
              "0.5530842166471308"
            ]
          },
          "metadata": {
            "tags": []
          },
          "execution_count": 98
        }
      ]
    },
    {
      "cell_type": "markdown",
      "metadata": {
        "id": "5kDf6uuBmzq2"
      },
      "source": [
        "# Criando o nosso modelo de regressão \"bobinho\" que sempre prevê a média para termos uma linha de base"
      ]
    },
    {
      "cell_type": "code",
      "metadata": {
        "id": "hf-QWAn3aRY2"
      },
      "source": [
        "from sklearn.dummy import DummyRegressor"
      ],
      "execution_count": null,
      "outputs": []
    },
    {
      "cell_type": "code",
      "metadata": {
        "id": "Ty_PHdwKaU0E"
      },
      "source": [
        "dr = DummyRegressor().fit(X_treino, y_treino)"
      ],
      "execution_count": null,
      "outputs": []
    },
    {
      "cell_type": "code",
      "metadata": {
        "id": "De4QQmzFauye"
      },
      "source": [
        "y_pred_dr = dr.predict(X_treino) \n",
        "y_pred_dr_t = dr.predict(X_teste.apply(np.log1p))"
      ],
      "execution_count": null,
      "outputs": []
    },
    {
      "cell_type": "code",
      "metadata": {
        "colab": {
          "base_uri": "https://localhost:8080/"
        },
        "id": "tv9POEepaZtk",
        "outputId": "d469c2cd-4a8d-4725-9918-130500246f76"
      },
      "source": [
        "dr.score(X_treino, y_treino)"
      ],
      "execution_count": null,
      "outputs": [
        {
          "output_type": "execute_result",
          "data": {
            "text/plain": [
              "0.0"
            ]
          },
          "metadata": {
            "tags": []
          },
          "execution_count": 103
        }
      ]
    },
    {
      "cell_type": "markdown",
      "metadata": {
        "id": "8PDku9Nmm82Z"
      },
      "source": [
        "## Aplicando o regressor de floresta aleatória"
      ]
    },
    {
      "cell_type": "code",
      "metadata": {
        "id": "FgLmwI_KdFgc"
      },
      "source": [
        "from sklearn.ensemble import RandomForestRegressor\n",
        "\n",
        "rf = RandomForestRegressor()\n",
        "rf.fit(X_treino, y_treino)\n",
        "y_pred_rf = rf.predict(X_treino)\n",
        "y_pred_rf_t = rf.predict(X_teste.apply(np.log1p))"
      ],
      "execution_count": null,
      "outputs": []
    },
    {
      "cell_type": "code",
      "metadata": {
        "id": "afYf4J3pae4N"
      },
      "source": [
        "from sklearn.metrics import mean_absolute_error, mean_squared_error"
      ],
      "execution_count": null,
      "outputs": []
    },
    {
      "cell_type": "markdown",
      "metadata": {
        "id": "TMCjZFi4nCeT"
      },
      "source": [
        "# Fazendo uma triagem de modelos e diferentes métricas para avaliarmos como que os preditores e os dados estão se saindo"
      ]
    },
    {
      "cell_type": "code",
      "metadata": {
        "colab": {
          "base_uri": "https://localhost:8080/"
        },
        "id": "YGx3kH9Yaqo2",
        "outputId": "b1dbd88b-b3e1-41b1-d562-9668957024c6"
      },
      "source": [
        "modelos = [dr, lr, rf]\n",
        "predicoes = [y_pred_dr, y_pred, y_pred_rf]\n",
        "predicoes_teste = [y_pred_dr_t, y_pred_t, y_pred_rf_t]\n",
        "\n",
        "\n",
        "for modelo, pred, predt in zip(modelos, predicoes, predicoes_teste):\n",
        "  print('Treino')\n",
        "  mae = mean_absolute_error(y_treino, pred)\n",
        "  mse = mean_squared_error(y_treino, pred)\n",
        "  r2 = r2_score(y_treino, pred)\n",
        "  print(modelo.__class__.__name__, \\\n",
        "        '\\nr2:', r2, \\\n",
        "        '\\nmae:', mae, \\\n",
        "        '\\nmse:', mse, \\\n",
        "        '\\nmse:',np.sqrt(mse), '\\n')\n",
        "  \n",
        "  print('Teste')\n",
        "  mae = mean_absolute_error(y_teste.apply(np.log1p), predt)\n",
        "  mse = mean_squared_error(y_teste.apply(np.log1p), predt)\n",
        "  r2 = r2_score(y_teste.apply(np.log1p), predt)\n",
        "  print(modelo.__class__.__name__, \\\n",
        "        '\\nr2:', r2, \\\n",
        "        '\\nmae:', mae, \\\n",
        "        '\\nmse:', mse, \\\n",
        "        '\\nmse:',np.sqrt(mse), '\\n')\n"
      ],
      "execution_count": null,
      "outputs": [
        {
          "output_type": "stream",
          "text": [
            "Treino\n",
            "DummyRegressor \n",
            "r2: 0.0 \n",
            "mae: 0.4594185524431904 \n",
            "mse: 0.3292474718124811 \n",
            "mse: 0.5738008991039323 \n",
            "\n",
            "Teste\n",
            "DummyRegressor \n",
            "r2: -0.001398828724613388 \n",
            "mae: 0.47507150607835924 \n",
            "mse: 0.3512785297681219 \n",
            "mse: 0.5926875481804236 \n",
            "\n",
            "Treino\n",
            "LinearRegression \n",
            "r2: 0.5321237226321226 \n",
            "mae: 0.31061099835823586 \n",
            "mse: 0.1540470814444088 \n",
            "mse: 0.39248832013756635 \n",
            "\n",
            "Teste\n",
            "LinearRegression \n",
            "r2: 0.5530842166471308 \n",
            "mae: 0.31507775527841475 \n",
            "mse: 0.1567726212605122 \n",
            "mse: 0.39594522507603525 \n",
            "\n",
            "Treino\n",
            "RandomForestRegressor \n",
            "r2: 0.8176020867206382 \n",
            "mae: 0.18334648235466028 \n",
            "mse: 0.060054051811102065 \n",
            "mse: 0.24505928223820062 \n",
            "\n",
            "Teste\n",
            "RandomForestRegressor \n",
            "r2: 0.4623108715022648 \n",
            "mae: 0.3464972818340046 \n",
            "mse: 0.18861480672145783 \n",
            "mse: 0.43429806207426 \n",
            "\n"
          ],
          "name": "stdout"
        }
      ]
    },
    {
      "cell_type": "markdown",
      "metadata": {
        "id": "C0fWimcEnPuh"
      },
      "source": [
        "# Vendo o score de validação além dos scores de treino e teste"
      ]
    },
    {
      "cell_type": "code",
      "metadata": {
        "colab": {
          "base_uri": "https://localhost:8080/"
        },
        "id": "9av41b9NgQhW",
        "outputId": "42f43f76-c3c1-4819-cd49-3b36cff36e13"
      },
      "source": [
        "from sklearn.model_selection import cross_val_score\n",
        "\n",
        "modelos = [dr, lr, rf]\n",
        "\n",
        "for modelo in modelos:\n",
        "  cv  = cross_val_score(modelo, X_treino, y_treino, cv=10)\n",
        "  print(modelo.__class__.__name__, \\\n",
        "        '\\n cv score:', np.mean(cv))"
      ],
      "execution_count": null,
      "outputs": [
        {
          "output_type": "stream",
          "text": [
            "DummyRegressor \n",
            " cv score: -0.012659287247249695\n",
            "LinearRegression \n",
            " cv score: 0.5126662494089673\n",
            "RandomForestRegressor \n",
            " cv score: 0.45869307423595435\n"
          ],
          "name": "stdout"
        }
      ]
    },
    {
      "cell_type": "markdown",
      "metadata": {
        "id": "H-KuDvxWnYDs"
      },
      "source": [
        "# Fazendo a busca de hiperparâmetros para melhorar o nosso modelo (no caso, o de floresta aleatória)"
      ]
    },
    {
      "cell_type": "code",
      "metadata": {
        "id": "UQzgmMSPg7LQ"
      },
      "source": [
        "from sklearn.model_selection import GridSearchCV\n",
        "\n",
        "rf_params = {'n_estimators':[100, 150, 200, 500, 600],\n",
        "             'max_depth':[5, 10, 15, 20, 30],\n",
        "             'random_state': [SEED]}\n",
        "\n",
        "gs = GridSearchCV(rf, rf_params, cv=5, verbose=2, scoring='r2')"
      ],
      "execution_count": null,
      "outputs": []
    },
    {
      "cell_type": "code",
      "metadata": {
        "colab": {
          "base_uri": "https://localhost:8080/"
        },
        "id": "faDVjbl-hXEW",
        "outputId": "c10a4c43-d138-4a2b-bad8-cdfb5efda504"
      },
      "source": [
        "gs.fit(X_treino, y_treino)"
      ],
      "execution_count": null,
      "outputs": [
        {
          "output_type": "stream",
          "text": [
            "Fitting 5 folds for each of 25 candidates, totalling 125 fits\n",
            "[CV] max_depth=5, n_estimators=100, random_state=42 ..................\n",
            "[CV] ... max_depth=5, n_estimators=100, random_state=42, total=   0.2s\n",
            "[CV] max_depth=5, n_estimators=100, random_state=42 ..................\n"
          ],
          "name": "stdout"
        },
        {
          "output_type": "stream",
          "text": [
            "[Parallel(n_jobs=1)]: Using backend SequentialBackend with 1 concurrent workers.\n",
            "[Parallel(n_jobs=1)]: Done   1 out of   1 | elapsed:    0.2s remaining:    0.0s\n"
          ],
          "name": "stderr"
        },
        {
          "output_type": "stream",
          "text": [
            "[CV] ... max_depth=5, n_estimators=100, random_state=42, total=   0.2s\n",
            "[CV] max_depth=5, n_estimators=100, random_state=42 ..................\n",
            "[CV] ... max_depth=5, n_estimators=100, random_state=42, total=   0.2s\n",
            "[CV] max_depth=5, n_estimators=100, random_state=42 ..................\n",
            "[CV] ... max_depth=5, n_estimators=100, random_state=42, total=   0.2s\n",
            "[CV] max_depth=5, n_estimators=100, random_state=42 ..................\n",
            "[CV] ... max_depth=5, n_estimators=100, random_state=42, total=   0.2s\n",
            "[CV] max_depth=5, n_estimators=150, random_state=42 ..................\n",
            "[CV] ... max_depth=5, n_estimators=150, random_state=42, total=   0.3s\n",
            "[CV] max_depth=5, n_estimators=150, random_state=42 ..................\n",
            "[CV] ... max_depth=5, n_estimators=150, random_state=42, total=   0.2s\n",
            "[CV] max_depth=5, n_estimators=150, random_state=42 ..................\n",
            "[CV] ... max_depth=5, n_estimators=150, random_state=42, total=   0.3s\n",
            "[CV] max_depth=5, n_estimators=150, random_state=42 ..................\n",
            "[CV] ... max_depth=5, n_estimators=150, random_state=42, total=   0.3s\n",
            "[CV] max_depth=5, n_estimators=150, random_state=42 ..................\n",
            "[CV] ... max_depth=5, n_estimators=150, random_state=42, total=   0.3s\n",
            "[CV] max_depth=5, n_estimators=200, random_state=42 ..................\n",
            "[CV] ... max_depth=5, n_estimators=200, random_state=42, total=   0.3s\n",
            "[CV] max_depth=5, n_estimators=200, random_state=42 ..................\n",
            "[CV] ... max_depth=5, n_estimators=200, random_state=42, total=   0.3s\n",
            "[CV] max_depth=5, n_estimators=200, random_state=42 ..................\n",
            "[CV] ... max_depth=5, n_estimators=200, random_state=42, total=   0.3s\n",
            "[CV] max_depth=5, n_estimators=200, random_state=42 ..................\n",
            "[CV] ... max_depth=5, n_estimators=200, random_state=42, total=   0.3s\n",
            "[CV] max_depth=5, n_estimators=200, random_state=42 ..................\n",
            "[CV] ... max_depth=5, n_estimators=200, random_state=42, total=   0.3s\n",
            "[CV] max_depth=5, n_estimators=500, random_state=42 ..................\n",
            "[CV] ... max_depth=5, n_estimators=500, random_state=42, total=   0.8s\n",
            "[CV] max_depth=5, n_estimators=500, random_state=42 ..................\n",
            "[CV] ... max_depth=5, n_estimators=500, random_state=42, total=   0.8s\n",
            "[CV] max_depth=5, n_estimators=500, random_state=42 ..................\n",
            "[CV] ... max_depth=5, n_estimators=500, random_state=42, total=   0.8s\n",
            "[CV] max_depth=5, n_estimators=500, random_state=42 ..................\n",
            "[CV] ... max_depth=5, n_estimators=500, random_state=42, total=   0.8s\n",
            "[CV] max_depth=5, n_estimators=500, random_state=42 ..................\n",
            "[CV] ... max_depth=5, n_estimators=500, random_state=42, total=   0.8s\n",
            "[CV] max_depth=5, n_estimators=600, random_state=42 ..................\n",
            "[CV] ... max_depth=5, n_estimators=600, random_state=42, total=   1.0s\n",
            "[CV] max_depth=5, n_estimators=600, random_state=42 ..................\n",
            "[CV] ... max_depth=5, n_estimators=600, random_state=42, total=   1.0s\n",
            "[CV] max_depth=5, n_estimators=600, random_state=42 ..................\n",
            "[CV] ... max_depth=5, n_estimators=600, random_state=42, total=   1.0s\n",
            "[CV] max_depth=5, n_estimators=600, random_state=42 ..................\n",
            "[CV] ... max_depth=5, n_estimators=600, random_state=42, total=   1.0s\n",
            "[CV] max_depth=5, n_estimators=600, random_state=42 ..................\n",
            "[CV] ... max_depth=5, n_estimators=600, random_state=42, total=   1.0s\n",
            "[CV] max_depth=10, n_estimators=100, random_state=42 .................\n",
            "[CV] .. max_depth=10, n_estimators=100, random_state=42, total=   0.2s\n",
            "[CV] max_depth=10, n_estimators=100, random_state=42 .................\n",
            "[CV] .. max_depth=10, n_estimators=100, random_state=42, total=   0.2s\n",
            "[CV] max_depth=10, n_estimators=100, random_state=42 .................\n",
            "[CV] .. max_depth=10, n_estimators=100, random_state=42, total=   0.2s\n",
            "[CV] max_depth=10, n_estimators=100, random_state=42 .................\n",
            "[CV] .. max_depth=10, n_estimators=100, random_state=42, total=   0.2s\n",
            "[CV] max_depth=10, n_estimators=100, random_state=42 .................\n",
            "[CV] .. max_depth=10, n_estimators=100, random_state=42, total=   0.2s\n",
            "[CV] max_depth=10, n_estimators=150, random_state=42 .................\n",
            "[CV] .. max_depth=10, n_estimators=150, random_state=42, total=   0.3s\n",
            "[CV] max_depth=10, n_estimators=150, random_state=42 .................\n",
            "[CV] .. max_depth=10, n_estimators=150, random_state=42, total=   0.3s\n",
            "[CV] max_depth=10, n_estimators=150, random_state=42 .................\n",
            "[CV] .. max_depth=10, n_estimators=150, random_state=42, total=   0.3s\n",
            "[CV] max_depth=10, n_estimators=150, random_state=42 .................\n",
            "[CV] .. max_depth=10, n_estimators=150, random_state=42, total=   0.3s\n",
            "[CV] max_depth=10, n_estimators=150, random_state=42 .................\n",
            "[CV] .. max_depth=10, n_estimators=150, random_state=42, total=   0.3s\n",
            "[CV] max_depth=10, n_estimators=200, random_state=42 .................\n",
            "[CV] .. max_depth=10, n_estimators=200, random_state=42, total=   0.4s\n",
            "[CV] max_depth=10, n_estimators=200, random_state=42 .................\n",
            "[CV] .. max_depth=10, n_estimators=200, random_state=42, total=   0.4s\n",
            "[CV] max_depth=10, n_estimators=200, random_state=42 .................\n",
            "[CV] .. max_depth=10, n_estimators=200, random_state=42, total=   0.4s\n",
            "[CV] max_depth=10, n_estimators=200, random_state=42 .................\n",
            "[CV] .. max_depth=10, n_estimators=200, random_state=42, total=   0.4s\n",
            "[CV] max_depth=10, n_estimators=200, random_state=42 .................\n",
            "[CV] .. max_depth=10, n_estimators=200, random_state=42, total=   0.4s\n",
            "[CV] max_depth=10, n_estimators=500, random_state=42 .................\n",
            "[CV] .. max_depth=10, n_estimators=500, random_state=42, total=   1.0s\n",
            "[CV] max_depth=10, n_estimators=500, random_state=42 .................\n",
            "[CV] .. max_depth=10, n_estimators=500, random_state=42, total=   1.0s\n",
            "[CV] max_depth=10, n_estimators=500, random_state=42 .................\n",
            "[CV] .. max_depth=10, n_estimators=500, random_state=42, total=   1.0s\n",
            "[CV] max_depth=10, n_estimators=500, random_state=42 .................\n",
            "[CV] .. max_depth=10, n_estimators=500, random_state=42, total=   1.0s\n",
            "[CV] max_depth=10, n_estimators=500, random_state=42 .................\n",
            "[CV] .. max_depth=10, n_estimators=500, random_state=42, total=   1.0s\n",
            "[CV] max_depth=10, n_estimators=600, random_state=42 .................\n",
            "[CV] .. max_depth=10, n_estimators=600, random_state=42, total=   1.2s\n",
            "[CV] max_depth=10, n_estimators=600, random_state=42 .................\n",
            "[CV] .. max_depth=10, n_estimators=600, random_state=42, total=   1.2s\n",
            "[CV] max_depth=10, n_estimators=600, random_state=42 .................\n",
            "[CV] .. max_depth=10, n_estimators=600, random_state=42, total=   1.2s\n",
            "[CV] max_depth=10, n_estimators=600, random_state=42 .................\n",
            "[CV] .. max_depth=10, n_estimators=600, random_state=42, total=   1.2s\n",
            "[CV] max_depth=10, n_estimators=600, random_state=42 .................\n",
            "[CV] .. max_depth=10, n_estimators=600, random_state=42, total=   1.2s\n",
            "[CV] max_depth=15, n_estimators=100, random_state=42 .................\n",
            "[CV] .. max_depth=15, n_estimators=100, random_state=42, total=   0.2s\n",
            "[CV] max_depth=15, n_estimators=100, random_state=42 .................\n",
            "[CV] .. max_depth=15, n_estimators=100, random_state=42, total=   0.2s\n",
            "[CV] max_depth=15, n_estimators=100, random_state=42 .................\n",
            "[CV] .. max_depth=15, n_estimators=100, random_state=42, total=   0.2s\n",
            "[CV] max_depth=15, n_estimators=100, random_state=42 .................\n",
            "[CV] .. max_depth=15, n_estimators=100, random_state=42, total=   0.2s\n",
            "[CV] max_depth=15, n_estimators=100, random_state=42 .................\n",
            "[CV] .. max_depth=15, n_estimators=100, random_state=42, total=   0.2s\n",
            "[CV] max_depth=15, n_estimators=150, random_state=42 .................\n",
            "[CV] .. max_depth=15, n_estimators=150, random_state=42, total=   0.3s\n",
            "[CV] max_depth=15, n_estimators=150, random_state=42 .................\n",
            "[CV] .. max_depth=15, n_estimators=150, random_state=42, total=   0.3s\n",
            "[CV] max_depth=15, n_estimators=150, random_state=42 .................\n",
            "[CV] .. max_depth=15, n_estimators=150, random_state=42, total=   0.3s\n",
            "[CV] max_depth=15, n_estimators=150, random_state=42 .................\n",
            "[CV] .. max_depth=15, n_estimators=150, random_state=42, total=   0.3s\n",
            "[CV] max_depth=15, n_estimators=150, random_state=42 .................\n",
            "[CV] .. max_depth=15, n_estimators=150, random_state=42, total=   0.3s\n",
            "[CV] max_depth=15, n_estimators=200, random_state=42 .................\n",
            "[CV] .. max_depth=15, n_estimators=200, random_state=42, total=   0.4s\n",
            "[CV] max_depth=15, n_estimators=200, random_state=42 .................\n",
            "[CV] .. max_depth=15, n_estimators=200, random_state=42, total=   0.4s\n",
            "[CV] max_depth=15, n_estimators=200, random_state=42 .................\n",
            "[CV] .. max_depth=15, n_estimators=200, random_state=42, total=   0.4s\n",
            "[CV] max_depth=15, n_estimators=200, random_state=42 .................\n",
            "[CV] .. max_depth=15, n_estimators=200, random_state=42, total=   0.4s\n",
            "[CV] max_depth=15, n_estimators=200, random_state=42 .................\n",
            "[CV] .. max_depth=15, n_estimators=200, random_state=42, total=   0.4s\n",
            "[CV] max_depth=15, n_estimators=500, random_state=42 .................\n",
            "[CV] .. max_depth=15, n_estimators=500, random_state=42, total=   1.0s\n",
            "[CV] max_depth=15, n_estimators=500, random_state=42 .................\n",
            "[CV] .. max_depth=15, n_estimators=500, random_state=42, total=   1.0s\n",
            "[CV] max_depth=15, n_estimators=500, random_state=42 .................\n",
            "[CV] .. max_depth=15, n_estimators=500, random_state=42, total=   1.0s\n",
            "[CV] max_depth=15, n_estimators=500, random_state=42 .................\n",
            "[CV] .. max_depth=15, n_estimators=500, random_state=42, total=   1.0s\n",
            "[CV] max_depth=15, n_estimators=500, random_state=42 .................\n",
            "[CV] .. max_depth=15, n_estimators=500, random_state=42, total=   1.0s\n",
            "[CV] max_depth=15, n_estimators=600, random_state=42 .................\n",
            "[CV] .. max_depth=15, n_estimators=600, random_state=42, total=   1.2s\n",
            "[CV] max_depth=15, n_estimators=600, random_state=42 .................\n",
            "[CV] .. max_depth=15, n_estimators=600, random_state=42, total=   1.2s\n",
            "[CV] max_depth=15, n_estimators=600, random_state=42 .................\n",
            "[CV] .. max_depth=15, n_estimators=600, random_state=42, total=   1.2s\n",
            "[CV] max_depth=15, n_estimators=600, random_state=42 .................\n",
            "[CV] .. max_depth=15, n_estimators=600, random_state=42, total=   1.2s\n",
            "[CV] max_depth=15, n_estimators=600, random_state=42 .................\n",
            "[CV] .. max_depth=15, n_estimators=600, random_state=42, total=   1.2s\n",
            "[CV] max_depth=20, n_estimators=100, random_state=42 .................\n",
            "[CV] .. max_depth=20, n_estimators=100, random_state=42, total=   0.2s\n",
            "[CV] max_depth=20, n_estimators=100, random_state=42 .................\n",
            "[CV] .. max_depth=20, n_estimators=100, random_state=42, total=   0.2s\n",
            "[CV] max_depth=20, n_estimators=100, random_state=42 .................\n",
            "[CV] .. max_depth=20, n_estimators=100, random_state=42, total=   0.2s\n",
            "[CV] max_depth=20, n_estimators=100, random_state=42 .................\n",
            "[CV] .. max_depth=20, n_estimators=100, random_state=42, total=   0.2s\n",
            "[CV] max_depth=20, n_estimators=100, random_state=42 .................\n",
            "[CV] .. max_depth=20, n_estimators=100, random_state=42, total=   0.2s\n",
            "[CV] max_depth=20, n_estimators=150, random_state=42 .................\n",
            "[CV] .. max_depth=20, n_estimators=150, random_state=42, total=   0.3s\n",
            "[CV] max_depth=20, n_estimators=150, random_state=42 .................\n",
            "[CV] .. max_depth=20, n_estimators=150, random_state=42, total=   0.3s\n",
            "[CV] max_depth=20, n_estimators=150, random_state=42 .................\n",
            "[CV] .. max_depth=20, n_estimators=150, random_state=42, total=   0.3s\n",
            "[CV] max_depth=20, n_estimators=150, random_state=42 .................\n",
            "[CV] .. max_depth=20, n_estimators=150, random_state=42, total=   0.3s\n",
            "[CV] max_depth=20, n_estimators=150, random_state=42 .................\n",
            "[CV] .. max_depth=20, n_estimators=150, random_state=42, total=   0.3s\n",
            "[CV] max_depth=20, n_estimators=200, random_state=42 .................\n",
            "[CV] .. max_depth=20, n_estimators=200, random_state=42, total=   0.4s\n",
            "[CV] max_depth=20, n_estimators=200, random_state=42 .................\n",
            "[CV] .. max_depth=20, n_estimators=200, random_state=42, total=   0.4s\n",
            "[CV] max_depth=20, n_estimators=200, random_state=42 .................\n",
            "[CV] .. max_depth=20, n_estimators=200, random_state=42, total=   0.4s\n",
            "[CV] max_depth=20, n_estimators=200, random_state=42 .................\n",
            "[CV] .. max_depth=20, n_estimators=200, random_state=42, total=   0.4s\n",
            "[CV] max_depth=20, n_estimators=200, random_state=42 .................\n",
            "[CV] .. max_depth=20, n_estimators=200, random_state=42, total=   0.4s\n",
            "[CV] max_depth=20, n_estimators=500, random_state=42 .................\n",
            "[CV] .. max_depth=20, n_estimators=500, random_state=42, total=   1.0s\n",
            "[CV] max_depth=20, n_estimators=500, random_state=42 .................\n",
            "[CV] .. max_depth=20, n_estimators=500, random_state=42, total=   1.0s\n",
            "[CV] max_depth=20, n_estimators=500, random_state=42 .................\n",
            "[CV] .. max_depth=20, n_estimators=500, random_state=42, total=   1.1s\n",
            "[CV] max_depth=20, n_estimators=500, random_state=42 .................\n",
            "[CV] .. max_depth=20, n_estimators=500, random_state=42, total=   1.0s\n",
            "[CV] max_depth=20, n_estimators=500, random_state=42 .................\n",
            "[CV] .. max_depth=20, n_estimators=500, random_state=42, total=   1.0s\n",
            "[CV] max_depth=20, n_estimators=600, random_state=42 .................\n",
            "[CV] .. max_depth=20, n_estimators=600, random_state=42, total=   1.2s\n",
            "[CV] max_depth=20, n_estimators=600, random_state=42 .................\n",
            "[CV] .. max_depth=20, n_estimators=600, random_state=42, total=   1.3s\n",
            "[CV] max_depth=20, n_estimators=600, random_state=42 .................\n",
            "[CV] .. max_depth=20, n_estimators=600, random_state=42, total=   1.3s\n",
            "[CV] max_depth=20, n_estimators=600, random_state=42 .................\n",
            "[CV] .. max_depth=20, n_estimators=600, random_state=42, total=   1.2s\n",
            "[CV] max_depth=20, n_estimators=600, random_state=42 .................\n",
            "[CV] .. max_depth=20, n_estimators=600, random_state=42, total=   1.1s\n",
            "[CV] max_depth=30, n_estimators=100, random_state=42 .................\n",
            "[CV] .. max_depth=30, n_estimators=100, random_state=42, total=   0.2s\n",
            "[CV] max_depth=30, n_estimators=100, random_state=42 .................\n",
            "[CV] .. max_depth=30, n_estimators=100, random_state=42, total=   0.2s\n",
            "[CV] max_depth=30, n_estimators=100, random_state=42 .................\n",
            "[CV] .. max_depth=30, n_estimators=100, random_state=42, total=   0.2s\n",
            "[CV] max_depth=30, n_estimators=100, random_state=42 .................\n",
            "[CV] .. max_depth=30, n_estimators=100, random_state=42, total=   0.2s\n",
            "[CV] max_depth=30, n_estimators=100, random_state=42 .................\n",
            "[CV] .. max_depth=30, n_estimators=100, random_state=42, total=   0.2s\n",
            "[CV] max_depth=30, n_estimators=150, random_state=42 .................\n",
            "[CV] .. max_depth=30, n_estimators=150, random_state=42, total=   0.3s\n",
            "[CV] max_depth=30, n_estimators=150, random_state=42 .................\n",
            "[CV] .. max_depth=30, n_estimators=150, random_state=42, total=   0.3s\n",
            "[CV] max_depth=30, n_estimators=150, random_state=42 .................\n",
            "[CV] .. max_depth=30, n_estimators=150, random_state=42, total=   0.3s\n",
            "[CV] max_depth=30, n_estimators=150, random_state=42 .................\n",
            "[CV] .. max_depth=30, n_estimators=150, random_state=42, total=   0.3s\n",
            "[CV] max_depth=30, n_estimators=150, random_state=42 .................\n",
            "[CV] .. max_depth=30, n_estimators=150, random_state=42, total=   0.3s\n",
            "[CV] max_depth=30, n_estimators=200, random_state=42 .................\n",
            "[CV] .. max_depth=30, n_estimators=200, random_state=42, total=   0.4s\n",
            "[CV] max_depth=30, n_estimators=200, random_state=42 .................\n",
            "[CV] .. max_depth=30, n_estimators=200, random_state=42, total=   0.4s\n",
            "[CV] max_depth=30, n_estimators=200, random_state=42 .................\n",
            "[CV] .. max_depth=30, n_estimators=200, random_state=42, total=   0.4s\n",
            "[CV] max_depth=30, n_estimators=200, random_state=42 .................\n",
            "[CV] .. max_depth=30, n_estimators=200, random_state=42, total=   0.5s\n",
            "[CV] max_depth=30, n_estimators=200, random_state=42 .................\n",
            "[CV] .. max_depth=30, n_estimators=200, random_state=42, total=   0.4s\n",
            "[CV] max_depth=30, n_estimators=500, random_state=42 .................\n",
            "[CV] .. max_depth=30, n_estimators=500, random_state=42, total=   1.1s\n",
            "[CV] max_depth=30, n_estimators=500, random_state=42 .................\n",
            "[CV] .. max_depth=30, n_estimators=500, random_state=42, total=   1.1s\n",
            "[CV] max_depth=30, n_estimators=500, random_state=42 .................\n",
            "[CV] .. max_depth=30, n_estimators=500, random_state=42, total=   1.0s\n",
            "[CV] max_depth=30, n_estimators=500, random_state=42 .................\n",
            "[CV] .. max_depth=30, n_estimators=500, random_state=42, total=   1.0s\n",
            "[CV] max_depth=30, n_estimators=500, random_state=42 .................\n",
            "[CV] .. max_depth=30, n_estimators=500, random_state=42, total=   1.0s\n",
            "[CV] max_depth=30, n_estimators=600, random_state=42 .................\n",
            "[CV] .. max_depth=30, n_estimators=600, random_state=42, total=   1.2s\n",
            "[CV] max_depth=30, n_estimators=600, random_state=42 .................\n",
            "[CV] .. max_depth=30, n_estimators=600, random_state=42, total=   1.3s\n",
            "[CV] max_depth=30, n_estimators=600, random_state=42 .................\n",
            "[CV] .. max_depth=30, n_estimators=600, random_state=42, total=   1.2s\n",
            "[CV] max_depth=30, n_estimators=600, random_state=42 .................\n",
            "[CV] .. max_depth=30, n_estimators=600, random_state=42, total=   1.2s\n",
            "[CV] max_depth=30, n_estimators=600, random_state=42 .................\n",
            "[CV] .. max_depth=30, n_estimators=600, random_state=42, total=   1.2s\n"
          ],
          "name": "stdout"
        },
        {
          "output_type": "stream",
          "text": [
            "[Parallel(n_jobs=1)]: Done 125 out of 125 | elapsed:  1.3min finished\n"
          ],
          "name": "stderr"
        },
        {
          "output_type": "execute_result",
          "data": {
            "text/plain": [
              "GridSearchCV(cv=5, error_score=nan,\n",
              "             estimator=RandomForestRegressor(bootstrap=True, ccp_alpha=0.0,\n",
              "                                             criterion='mse', max_depth=None,\n",
              "                                             max_features='auto',\n",
              "                                             max_leaf_nodes=None,\n",
              "                                             max_samples=None,\n",
              "                                             min_impurity_decrease=0.0,\n",
              "                                             min_impurity_split=None,\n",
              "                                             min_samples_leaf=1,\n",
              "                                             min_samples_split=2,\n",
              "                                             min_weight_fraction_leaf=0.0,\n",
              "                                             n_estimators=100, n_jobs=None,\n",
              "                                             oob_score=False, random_state=None,\n",
              "                                             verbose=0, warm_start=False),\n",
              "             iid='deprecated', n_jobs=None,\n",
              "             param_grid={'max_depth': [5, 10, 15, 20, 30],\n",
              "                         'n_estimators': [100, 150, 200, 500, 600],\n",
              "                         'random_state': [42]},\n",
              "             pre_dispatch='2*n_jobs', refit=True, return_train_score=False,\n",
              "             scoring='r2', verbose=2)"
            ]
          },
          "metadata": {
            "tags": []
          },
          "execution_count": 227
        }
      ]
    },
    {
      "cell_type": "code",
      "metadata": {
        "colab": {
          "base_uri": "https://localhost:8080/"
        },
        "id": "rkRp2n5mjhKq",
        "outputId": "90fd67be-3393-4222-b615-e7a3ae1b2002"
      },
      "source": [
        "gs.best_params_"
      ],
      "execution_count": null,
      "outputs": [
        {
          "output_type": "execute_result",
          "data": {
            "text/plain": [
              "{'max_depth': 5, 'n_estimators': 600, 'random_state': 42}"
            ]
          },
          "metadata": {
            "tags": []
          },
          "execution_count": 228
        }
      ]
    },
    {
      "cell_type": "code",
      "metadata": {
        "colab": {
          "base_uri": "https://localhost:8080/"
        },
        "id": "9rDKA6ssjk31",
        "outputId": "31cedbef-bc98-4b8a-f6a8-d94adc6359cf"
      },
      "source": [
        "gs.best_score_"
      ],
      "execution_count": null,
      "outputs": [
        {
          "output_type": "execute_result",
          "data": {
            "text/plain": [
              "0.5212858268507274"
            ]
          },
          "metadata": {
            "tags": []
          },
          "execution_count": 229
        }
      ]
    },
    {
      "cell_type": "code",
      "metadata": {
        "colab": {
          "base_uri": "https://localhost:8080/"
        },
        "id": "OULOirmRiM0o",
        "outputId": "68a99dec-3b3b-49b2-c5b5-76af8be06b9a"
      },
      "source": [
        "gs.best_estimator_"
      ],
      "execution_count": null,
      "outputs": [
        {
          "output_type": "execute_result",
          "data": {
            "text/plain": [
              "RandomForestRegressor(bootstrap=True, ccp_alpha=0.0, criterion='mse',\n",
              "                      max_depth=5, max_features='auto', max_leaf_nodes=None,\n",
              "                      max_samples=None, min_impurity_decrease=0.0,\n",
              "                      min_impurity_split=None, min_samples_leaf=1,\n",
              "                      min_samples_split=2, min_weight_fraction_leaf=0.0,\n",
              "                      n_estimators=600, n_jobs=None, oob_score=False,\n",
              "                      random_state=42, verbose=0, warm_start=False)"
            ]
          },
          "metadata": {
            "tags": []
          },
          "execution_count": 238
        }
      ]
    },
    {
      "cell_type": "markdown",
      "metadata": {
        "id": "B7uxB8zdnmBq"
      },
      "source": [
        "# Salvando o melhor modelo e exportando esse modelo para um arquivo binário do tipo pickle"
      ]
    },
    {
      "cell_type": "code",
      "metadata": {
        "id": "GtqV_zbRjS7b"
      },
      "source": [
        "modelo_final = gs.best_estimator_"
      ],
      "execution_count": null,
      "outputs": []
    },
    {
      "cell_type": "code",
      "metadata": {
        "id": "M0zvOgT6jbvs"
      },
      "source": [
        "import pickle"
      ],
      "execution_count": null,
      "outputs": []
    },
    {
      "cell_type": "code",
      "metadata": {
        "id": "oKQngwhPjdZN"
      },
      "source": [
        "#with open('modelo_final.pkl', 'wb') as arquivo:\n",
        " # pickle.dump(modelo_final, arquivo)\n",
        "\n",
        "pickle.dump(modelo_final, open('modelo_f.pkl', 'wb'))"
      ],
      "execution_count": null,
      "outputs": []
    },
    {
      "cell_type": "code",
      "metadata": {
        "id": "y5DYvNqnkaKr"
      },
      "source": [
        "#with open('modelo_final.pkl', 'rb') as f:\n",
        " # modelo = pickle.load(f)\n",
        "\n",
        "modelo = pickle.load(open('modelo_f.pkl', 'rb'))"
      ],
      "execution_count": null,
      "outputs": []
    },
    {
      "cell_type": "code",
      "metadata": {
        "colab": {
          "base_uri": "https://localhost:8080/"
        },
        "id": "pI8IamcEkfz0",
        "outputId": "328df31d-d504-4b43-eef9-c6a74a8f2c3f"
      },
      "source": [
        "modelo.score(X_treino, y_treino)"
      ],
      "execution_count": null,
      "outputs": [
        {
          "output_type": "execute_result",
          "data": {
            "text/plain": [
              "0.6324394921617409"
            ]
          },
          "metadata": {
            "tags": []
          },
          "execution_count": 241
        }
      ]
    },
    {
      "cell_type": "code",
      "metadata": {
        "colab": {
          "base_uri": "https://localhost:8080/"
        },
        "id": "OXZhwBp4lQQ9",
        "outputId": "1bf07819-1e3a-429f-87c9-8f4b21c5a00c"
      },
      "source": [
        "modelo.score(np.log1p(X_teste), np.log1p(y_teste))"
      ],
      "execution_count": null,
      "outputs": [
        {
          "output_type": "execute_result",
          "data": {
            "text/plain": [
              "0.5482315236036348"
            ]
          },
          "metadata": {
            "tags": []
          },
          "execution_count": 242
        }
      ]
    },
    {
      "cell_type": "code",
      "metadata": {
        "id": "Qd7hpThTlVnv"
      },
      "source": [
        ""
      ],
      "execution_count": null,
      "outputs": []
    }
  ]
}